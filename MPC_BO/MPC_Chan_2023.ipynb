{
 "cells": [
  {
   "cell_type": "markdown",
   "id": "673f127e-db2f-438a-b464-fb2e63402353",
   "metadata": {},
   "source": [
    "#### System and data taken from [Chan et. al 2023](https://ieeexplore.ieee.org/document/10156650/)"
   ]
  },
  {
   "cell_type": "code",
   "execution_count": 1,
   "id": "298c21d1-6a5c-4612-b375-e3bd2b21fc93",
   "metadata": {
    "tags": []
   },
   "outputs": [],
   "source": [
    "import numpy as np\n",
    "import matplotlib.pyplot as plt\n",
    "from casadi import *\n",
    "from copy import *\n",
    "import scipy.io"
   ]
  },
  {
   "cell_type": "markdown",
   "id": "bb42dfb4-274f-4977-98d7-4e0a8bedc1db",
   "metadata": {},
   "source": [
    "### Loading in information"
   ]
  },
  {
   "cell_type": "code",
   "execution_count": 2,
   "id": "6ae8969e-7f00-4a3f-bb3b-a9acfe367991",
   "metadata": {
    "tags": []
   },
   "outputs": [],
   "source": [
    "model = scipy.io.loadmat('data/mat/subspace_id.mat') # load in model data"
   ]
  },
  {
   "cell_type": "code",
   "execution_count": 3,
   "id": "e055038b-2436-4d38-bff5-379ffed82930",
   "metadata": {
    "tags": []
   },
   "outputs": [],
   "source": [
    "ts = 0.5 # sampling time\n",
    "Tref = 43.0 # reference temperature\n",
    "Tmax = 45.0 # max temp. for patient comfort\n",
    "Np = 5 # prediction horizon\n",
    "Ns = 60\n",
    "Kcem = 0.5 "
   ]
  },
  {
   "cell_type": "code",
   "execution_count": 4,
   "id": "89f9fe14-6917-49cf-85f4-d445bb502475",
   "metadata": {
    "tags": []
   },
   "outputs": [],
   "source": [
    "# Linear model used for control\n",
    "A, B = model['A'], model['B']\n",
    "C, D = model['C'], 0 # C = identity, D = 0\n",
    "\n",
    "yss = np.ravel(model['yss']) # use to center data for controller [Ts, I]\n",
    "uss = np.ravel(model['uss']) # use to center data for controller [P, q]\n",
    "y0 = np.array([30 - yss[0], 0]) # initial output\n",
    "x0 = np.array([30 - yss[0], 0, 0, 0, 0]) # initial state"
   ]
  },
  {
   "cell_type": "code",
   "execution_count": 5,
   "id": "4a4d878a-4861-4efe-a001-53de6a1e03fb",
   "metadata": {
    "tags": []
   },
   "outputs": [],
   "source": [
    "nx, nu, ny = A.shape[1], B.shape[1], C.shape[0] # u (P, q), x (Ts, I), y (Ts, I)\n",
    "nyc = 1 # x (CEM)"
   ]
  },
  {
   "cell_type": "code",
   "execution_count": 6,
   "id": "f8fbd97b-2861-46e0-b978-74766b397c5e",
   "metadata": {
    "tags": []
   },
   "outputs": [
    {
     "name": "stdout",
     "output_type": "stream",
     "text": [
      "5 2 2\n"
     ]
    }
   ],
   "source": [
    "print(nx, nu, ny)"
   ]
  },
  {
   "cell_type": "code",
   "execution_count": 7,
   "id": "b4e826b4-e41a-4785-a64c-a13f826a0a5b",
   "metadata": {
    "tags": []
   },
   "outputs": [],
   "source": [
    "# constraint bounds, centered about ss\n",
    "u_min, u_max = np.array([1.5, 3.5]) - uss, np.array([3.5, 7.5]) - uss\n",
    "y_min, y_max = np.array([25, 0]) - yss, np.array([Tmax, 80]) - yss\n",
    "x_min, x_max = np.array([25 - yss[0], 0 - yss[1], 0, 0, 0]), np.array([Tmax- yss[0], 80- yss[1], 0, 0, 0])\n",
    "\n",
    "u_init, x_init, y_init = (u_min + u_max) / 2, (x_min + x_max) / 2, (y_min + y_max) / 2"
   ]
  },
  {
   "cell_type": "markdown",
   "id": "b46c2d35-121e-4973-bb6c-c31a57db3688",
   "metadata": {},
   "source": [
    "### Set up controller"
   ]
  },
  {
   "cell_type": "code",
   "execution_count": 8,
   "id": "52dd29ec-48df-4b4c-9b36-ea97ce655f84",
   "metadata": {
    "tags": []
   },
   "outputs": [],
   "source": [
    "opti = Opti() "
   ]
  },
  {
   "cell_type": "code",
   "execution_count": 9,
   "id": "5575d8b9-b698-4456-9062-a613b8eac28f",
   "metadata": {
    "tags": []
   },
   "outputs": [],
   "source": [
    "# casadi functions\n",
    "x, u, y = SX.sym('x', nx), SX.sym('u', nu), SX.sym('y', ny)"
   ]
  },
  {
   "cell_type": "code",
   "execution_count": 10,
   "id": "ca72db4d-b12e-4a00-8a8e-0b80c000e721",
   "metadata": {
    "tags": []
   },
   "outputs": [],
   "source": [
    "# Linearized equations based on deviation values centered around ss\n",
    "f = Function('f', [x, u], [A@x + B@u])\n",
    "h = Function('h', [x], [C@x])"
   ]
  },
  {
   "cell_type": "code",
   "execution_count": 11,
   "id": "3901c4c1-d80d-4fc9-b032-31e8ef006137",
   "metadata": {
    "tags": []
   },
   "outputs": [],
   "source": [
    "# # nonlinear CEM requires absolute Ts \n",
    "lstg = (Kcem ** (Tref - (y[0] + yss[0])) ) * ts / 60\n",
    "lstage = Function('lstage', [y], [lstg])\n",
    "\n",
    "CEM = ( Kcem ** (Tref - (y[0] + yss[0])) ) * ts / 60\n",
    "CEMadd = Function('CEMadd', [y], [CEM])"
   ]
  },
  {
   "cell_type": "code",
   "execution_count": 13,
   "id": "33e1e52e-7944-4a47-84b0-313a49a26b80",
   "metadata": {},
   "outputs": [],
   "source": [
    "# containers\n",
    "X = [0 for _ in range(Np + 1)]\n",
    "U = [0 for _ in range(Np)]\n",
    "Y = [0 for _ in range(Np + 1)]"
   ]
  },
  {
   "cell_type": "code",
   "execution_count": 14,
   "id": "f3c9766c-79f6-4259-a2f2-4a6ae09dc55f",
   "metadata": {},
   "outputs": [],
   "source": [
    "J = 0 # init. cost/objective function"
   ]
  },
  {
   "cell_type": "code",
   "execution_count": 15,
   "id": "302bd723-7642-44f4-867b-7fa91c4634a8",
   "metadata": {},
   "outputs": [],
   "source": [
    "CEMref = opti.parameter(nyc) # target/reference output, fixed during optimization\n",
    "opti.set_value(CEMref, np.zeros((nyc, 1))) # set value of parameter\n",
    "\n",
    "CEM0 = opti.parameter(nyc) # initial CEM \n",
    "opti.set_value(CEM0, np.zeros((nyc, 1))) # set value of initial CEM parameter\n",
    "\n",
    "X[0] = opti.parameter(nx) # initial state as parameter\n",
    "opti.set_value(X[0], np.zeros((nx, 1))) # set value of initial state parameter\n",
    "\n",
    "Y[0] = opti.variable(ny) # output as decision variable \n",
    "opti.subject_to(Y[0] == h(X[0])) # define output constraints based on initial state\n",
    "opti.set_initial(Y[0], y_init) # define initial output "
   ]
  },
  {
   "cell_type": "code",
   "execution_count": 16,
   "id": "0b9060ba-9f85-49c4-8963-d931b4ecad02",
   "metadata": {},
   "outputs": [
    {
     "name": "stdout",
     "output_type": "stream",
     "text": [
      "0\n",
      "1\n",
      "2\n",
      "3\n",
      "4\n"
     ]
    }
   ],
   "source": [
    "for k in range(Np): \n",
    "    # controller @ k\n",
    "    print(k)\n",
    "    U[k] = opti.variable(nu) # controller input as decision variable\n",
    "    opti.subject_to(opti.bounded(u_min, U[k], u_max)) # define controller input constraints\n",
    "    opti.set_initial(U[k], u_init) # define initial controller input\n",
    "\n",
    "    # increment stage cost \n",
    "    Jstage = lstage(Y[k])\n",
    "    J += Jstage\n",
    "\n",
    "    # state @ k+1\n",
    "    X[k + 1] = opti.variable(nx) # state at k+1 as decision variable\n",
    "    opti.subject_to(opti.bounded(x_min, X[k + 1], x_max)) # define state constraints\n",
    "    opti.set_initial(X[k + 1], x_init) # define initial state \n",
    "\n",
    "    # output @ k+1\n",
    "    Y[k + 1] = opti.variable(ny) # output at k+1 as decision variable\n",
    "    opti.subject_to(opti.bounded(y_min, Y[k +1], y_max)) # define state constraints\n",
    "    opti.set_initial(Y[k + 1], y_init) # define initial output\n",
    "\n",
    "    # dynamics constraint\n",
    "    opti.subject_to(X[k + 1] == f(X[k], U[k]))\n",
    "    # output equality constraint\n",
    "    opti.subject_to(Y[k + 1] == h(X[k + 1]))"
   ]
  },
  {
   "cell_type": "code",
   "execution_count": 21,
   "id": "fdaf023d-5d1e-47bf-9723-d77304b7460c",
   "metadata": {},
   "outputs": [],
   "source": [
    "# calculate the terminal cost, note no splits or iterations\n",
    "J += lstage(Y[-1])\n",
    "\n",
    "J = (CEMref - (J + CEM0)) ** 2 # eq. 6 control objective \n",
    "\n",
    "# minimize cost\n",
    "opti.minimize(J)"
   ]
  },
  {
   "cell_type": "code",
   "execution_count": 18,
   "id": "6ce4c633-b245-4d79-9a6c-740c420b11d9",
   "metadata": {},
   "outputs": [
    {
     "name": "stdout",
     "output_type": "stream",
     "text": [
      "\n",
      "******************************************************************************\n",
      "This program contains Ipopt, a library for large-scale nonlinear optimization.\n",
      " Ipopt is released as open source code under the Eclipse Public License (EPL).\n",
      "         For more information visit https://github.com/coin-or/Ipopt\n",
      "******************************************************************************\n",
      "\n"
     ]
    },
    {
     "name": "stderr",
     "output_type": "stream",
     "text": [
      "CasADi - 2023-09-07 18:57:45 WARNING(\"NLP is overconstrained: There are 52 equality constraints but only 47 variables.\") [.../casadi/core/nlpsol.cpp:630]\n"
     ]
    },
    {
     "ename": "RuntimeError",
     "evalue": "Error in Opti::solve [OptiNode] at .../casadi/core/optistack.cpp:157:\n.../casadi/core/optistack_internal.cpp:998: Assertion \"return_success(accept_limit)\" failed:\nSolver failed. You may use opti.debug.value to investigate the latest values of variables. return_status is 'Not_Enough_Degrees_Of_Freedom'",
     "output_type": "error",
     "traceback": [
      "\u001b[0;31m---------------------------------------------------------------------------\u001b[0m",
      "\u001b[0;31mRuntimeError\u001b[0m                              Traceback (most recent call last)",
      "\u001b[0;32m/tmp/ipykernel_31622/577227630.py\u001b[0m in \u001b[0;36m?\u001b[0;34m()\u001b[0m\n\u001b[1;32m      2\u001b[0m \u001b[0mp_opts\u001b[0m \u001b[0;34m=\u001b[0m \u001b[0;34m{\u001b[0m\u001b[0;34m'verbose'\u001b[0m\u001b[0;34m:\u001b[0m \u001b[0;32mFalse\u001b[0m\u001b[0;34m,\u001b[0m \u001b[0;34m'expand'\u001b[0m\u001b[0;34m:\u001b[0m \u001b[0;32mTrue\u001b[0m\u001b[0;34m,\u001b[0m \u001b[0;34m'print_time'\u001b[0m\u001b[0;34m:\u001b[0m \u001b[0;36m0\u001b[0m\u001b[0;34m}\u001b[0m \u001b[0;31m# options taken from K.C. --> Ipopt options to print to console\u001b[0m\u001b[0;34m\u001b[0m\u001b[0;34m\u001b[0m\u001b[0m\n\u001b[1;32m      3\u001b[0m \u001b[0ms_opts\u001b[0m \u001b[0;34m=\u001b[0m \u001b[0;34m{\u001b[0m\u001b[0;34m'max_iter'\u001b[0m\u001b[0;34m:\u001b[0m \u001b[0;36m1000\u001b[0m\u001b[0;34m,\u001b[0m \u001b[0;34m'print_level'\u001b[0m\u001b[0;34m:\u001b[0m \u001b[0;36m0\u001b[0m\u001b[0;34m,\u001b[0m \u001b[0;34m'tol'\u001b[0m\u001b[0;34m:\u001b[0m \u001b[0;36m1e-6\u001b[0m\u001b[0;34m}\u001b[0m\u001b[0;34m\u001b[0m\u001b[0;34m\u001b[0m\u001b[0m\n\u001b[1;32m      4\u001b[0m \u001b[0;34m\u001b[0m\u001b[0m\n\u001b[1;32m      5\u001b[0m \u001b[0mopti\u001b[0m\u001b[0;34m.\u001b[0m\u001b[0msolver\u001b[0m\u001b[0;34m(\u001b[0m\u001b[0;34m'ipopt'\u001b[0m\u001b[0;34m,\u001b[0m \u001b[0mp_opts\u001b[0m\u001b[0;34m,\u001b[0m \u001b[0ms_opts\u001b[0m\u001b[0;34m)\u001b[0m\u001b[0;34m\u001b[0m\u001b[0;34m\u001b[0m\u001b[0m\n\u001b[0;32m----> 6\u001b[0;31m \u001b[0msoln\u001b[0m \u001b[0;34m=\u001b[0m \u001b[0mopti\u001b[0m\u001b[0;34m.\u001b[0m\u001b[0msolve\u001b[0m\u001b[0;34m(\u001b[0m\u001b[0;34m)\u001b[0m\u001b[0;34m\u001b[0m\u001b[0;34m\u001b[0m\u001b[0m\n\u001b[0m",
      "\u001b[0;32m~/.local/lib/python3.10/site-packages/casadi/casadi.py\u001b[0m in \u001b[0;36m?\u001b[0;34m(self, *args)\u001b[0m\n\u001b[1;32m  47779\u001b[0m \u001b[0;34m\u001b[0m\u001b[0m\n\u001b[1;32m  47780\u001b[0m \u001b[0;34m\u001b[0m\u001b[0m\n\u001b[1;32m  47781\u001b[0m \u001b[0;34m\u001b[0m\u001b[0m\n\u001b[1;32m  47782\u001b[0m         \"\"\"\n\u001b[0;32m> 47783\u001b[0;31m         \u001b[0;32mreturn\u001b[0m \u001b[0m_casadi\u001b[0m\u001b[0;34m.\u001b[0m\u001b[0mOpti_solve\u001b[0m\u001b[0;34m(\u001b[0m\u001b[0mself\u001b[0m\u001b[0;34m,\u001b[0m \u001b[0;34m*\u001b[0m\u001b[0margs\u001b[0m\u001b[0;34m)\u001b[0m\u001b[0;34m\u001b[0m\u001b[0;34m\u001b[0m\u001b[0m\n\u001b[0m",
      "\u001b[0;31mRuntimeError\u001b[0m: Error in Opti::solve [OptiNode] at .../casadi/core/optistack.cpp:157:\n.../casadi/core/optistack_internal.cpp:998: Assertion \"return_success(accept_limit)\" failed:\nSolver failed. You may use opti.debug.value to investigate the latest values of variables. return_status is 'Not_Enough_Degrees_Of_Freedom'"
     ]
    }
   ],
   "source": [
    "# solver info\n",
    "p_opts = {'verbose': False, 'expand': True, 'print_time': 0} # options taken from K.C. --> Ipopt options to print to console\n",
    "s_opts = {'max_iter': 1000, 'print_level': 0, 'tol': 1e-6}\n",
    "\n",
    "opti.solver('ipopt', p_opts, s_opts)\n",
    "soln = opti.solve()"
   ]
  },
  {
   "cell_type": "code",
   "execution_count": null,
   "id": "7925a923-1cb5-416a-a676-805543f2b5c8",
   "metadata": {},
   "outputs": [],
   "source": [
    "# prediction values\n",
    "U_soln = np.asarray([soln.value(u) for u in U]).reshape(-1, nu).T\n",
    "X_soln = np.asarray([soln.value(x) for x in X]).reshape(-1, nx).T\n",
    "Y_soln = np.asarray([soln.value(y) for y in Y]).reshape(-1, ny).T\n",
    "\n",
    "CEM_soln = np.asarray([soln.value(CEM0) for CEM0 in U]).reshape(-1, nu).T"
   ]
  },
  {
   "cell_type": "markdown",
   "id": "df14a4b6-d29c-4e6e-a898-9fd056593d22",
   "metadata": {},
   "source": [
    "### Run the simulation"
   ]
  },
  {
   "cell_type": "code",
   "execution_count": null,
   "id": "d6be3175-68c8-4723-855f-90779e7c14b5",
   "metadata": {},
   "outputs": [],
   "source": [
    "U_sim = np.zeros((nu, Ns))\n",
    "X_sim = np.zeros((nx, Ns + 1))\n",
    "Y_sim = np.zeros((ny, Ns + 1))\n",
    "\n",
    "CEMsim = np.zeros((nyc, Ns + 1))\n",
    "\n",
    "X_sim[:, 0] = np.ravel(x0) # set initial state\n",
    "Y_sim[:, 0] = np.ravel(h(X_sim[:, 0]).full())\n",
    "CEMsim[:, 0] = np.zeros((nyc,))"
   ]
  },
  {
   "cell_type": "code",
   "execution_count": null,
   "id": "7ec4422b-1ba5-4194-b121-f27af27ca05c",
   "metadata": {
    "scrolled": true
   },
   "outputs": [],
   "source": [
    "# run closed-loop\n",
    "for k in range(Ns):\n",
    "    opti.set_value(X[0], X_sim[:, k]) # set initial state parameters \n",
    "    #CEMref and CEM0\n",
    "    opti.set_value(CEMref, 1.5)\n",
    "    \n",
    "    opti.set_value(CEM0, CEMsim[:, k])\n",
    "    sol = opti.solve() # solve optimization problem\n",
    "    U_soln = np.asarray([sol.value(u) for u in U]).reshape(nu, -1) # extract control inputs based on state\n",
    "    Y_soln = np.asarray([sol.value(y) for y in Y]).reshape(ny, -1) # extract outputs based on state\n",
    "\n",
    "    U_sim[:, k] = U_soln[:, 0] # for control, only interested in the first opt. control input\n",
    "    \n",
    "    X_sim[:, k + 1] = np.ravel(f(X_sim[:, k], U_sim[:, k]).full()) # apply input to state system/plant\n",
    "    Y_sim[:, k + 1] = np.ravel(h(X_sim[:, k + 1]).full()) # apply input to output system/plant\n",
    "    \n",
    "    CEMsim[:, k + 1] = CEMsim[:, k] + np.ravel(CEMadd(X_sim[:, k + 1]).full())\n",
    "    "
   ]
  },
  {
   "cell_type": "markdown",
   "id": "15a73870-3b96-4f6b-8dbe-af3e5a72b8a9",
   "metadata": {},
   "source": [
    "### Plotting"
   ]
  },
  {
   "cell_type": "markdown",
   "id": "42c5e07e-1beb-4e9b-bb0f-6491077c27d1",
   "metadata": {},
   "source": [
    "State and input profiles of closed-loop experiments for a single iteration\n",
    "\n",
    "States  X (CEM, Ts)\n",
    "\n",
    "Control U (P  , q )"
   ]
  },
  {
   "cell_type": "code",
   "execution_count": null,
   "id": "61d96e78-fd25-48aa-9601-6a4c7d2dae75",
   "metadata": {
    "tags": []
   },
   "outputs": [],
   "source": [
    "fig, ((ax1, ax2), (ax3, ax4)) = plt.subplots(2, 2, figsize=(10, 5)) \n",
    "\n",
    "# # CEM\n",
    "# ax1.plot(np.arange(CEMsim.shape[1]), np.ravel(CEMsim))\n",
    "# ax1.axhline([1.5], linestyle='--', color='black', label='Target reference')\n",
    "# ax1.set_ylabel('CEM [min]')\n",
    "# ax1.legend()\n",
    "\n",
    "# Ts\n",
    "ax1.plot(np.arange(X_sim[0].shape[0]), np.ravel(X_sim[0]) + yss[0])\n",
    "ax1.axhline([45.], color='red', linestyle='--', label='Max temperature', alpha=0.5)\n",
    "ax1.set_ylabel('Surface temperature [$^\\circ$C]')\n",
    "ax1.legend()\n",
    "# I\n",
    "ax2.plot(np.arange(X_sim[1].shape[0]), np.ravel(X_sim[1]) + yss[1])\n",
    "ax2.set_ylabel('I [a.u.]')\n",
    "ax2.legend()\n",
    "# P\n",
    "ax3.step(np.arange(U_sim[0].shape[0]), np.ravel(U_sim[0]) + uss[0])\n",
    "ax3.axhline([u_max[0] + uss[0]], color='r', alpha=0.5)\n",
    "ax3.axhline([u_min[0] + uss[0]], color='r', alpha=0.5)\n",
    "ax3.set_ylabel('Power [W]')\n",
    "ax3.set_xlabel('Time [s]')\n",
    "# q\n",
    "ax4.step(np.arange(U_sim[1].shape[0]), np.ravel(U_sim[1]) + uss[1])\n",
    "ax4.axhline([u_max[1] + uss[1]], color='r', alpha=0.5)\n",
    "ax4.axhline([u_min[1] + uss[1]], color='r', alpha=0.5)\n",
    "ax4.set_ylabel('Flow rate [SLM]')\n",
    "ax4.set_xlabel('Time [s]')\n",
    "\n",
    "plt.tight_layout()"
   ]
  }
 ],
 "metadata": {
  "kernelspec": {
   "display_name": "Python 3 (ipykernel)",
   "language": "python",
   "name": "python3"
  },
  "language_info": {
   "codemirror_mode": {
    "name": "ipython",
    "version": 3
   },
   "file_extension": ".py",
   "mimetype": "text/x-python",
   "name": "python",
   "nbconvert_exporter": "python",
   "pygments_lexer": "ipython3",
   "version": "3.11.4"
  }
 },
 "nbformat": 4,
 "nbformat_minor": 5
}
