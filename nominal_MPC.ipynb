{
 "cells": [
  {
   "cell_type": "code",
   "execution_count": 1,
   "id": "da82ffe1",
   "metadata": {
    "scrolled": true
   },
   "outputs": [],
   "source": [
    "import numpy as np\n",
    "import matplotlib.pyplot as plt\n",
    "from casadi import *\n",
    "from copy import *"
   ]
  },
  {
   "cell_type": "markdown",
   "id": "6f673c5f-8b1b-44f3-9b81-9f01d298784a",
   "metadata": {
    "jp-MarkdownHeadingCollapsed": true
   },
   "source": [
    "### System information: "
   ]
  },
  {
   "cell_type": "markdown",
   "id": "5aee1f75",
   "metadata": {},
   "source": [
    "- nominal MPC (e.g. no noise or disturbances in process.)\n",
    "- OCP: double integrator model\n",
    "    - discrete-time system, linear model\n",
    "    - wish to solve minimization s.t. u,x in the form:\n",
    "        - $\\min_{x, u} x_{N}^{\\top}Q_{N}x_{N} + \\sum_{k=0}^{N-1} x_{k}^{\\top}Qx_{k}+u_{k}^{\\top}Ru_{k}$\n",
    "        - s.t.:\n",
    "            - $|u_{k}| \\leq 1 \\quad \\quad \\forall_k = 0, 1,...,N-1$\n",
    "            - $|y_{k}| \\leq 1 \\quad \\quad \\forall_k = 0, 1,...,N-1$\n",
    "        - $x(i+1) = A x(i) + B u(i)$\n",
    "        - $y(i) = C x(i)$\n",
    "    - prediction horizon: $\\quad 10$\n",
    "    - terminal cost: $\\qquad \\quad x_{N}^{\\top}Q_{N}x_{N}$\n",
    "    - stage cost: $\\qquad \\qquad \\sum_{k=0}^{N-1} x_{k}^{\\top}Rx_{k}+u_{k}^{\\top}Su_{k}$\n",
    "- using off-the-shelf packages, CasADi functions to formulate the problem, Opti to solve"
   ]
  },
  {
   "cell_type": "markdown",
   "id": "84e9a63a",
   "metadata": {},
   "source": [
    "### Setting up the problem"
   ]
  },
  {
   "cell_type": "markdown",
   "id": "3c8a929b-4805-4848-8e62-80c833901a3d",
   "metadata": {},
   "source": [
    "Defining variables to formulate problem using helper CasADI functions"
   ]
  },
  {
   "cell_type": "code",
   "execution_count": 2,
   "id": "fc82b2ba-88c2-44e2-b8bb-bae7a355bdac",
   "metadata": {},
   "outputs": [],
   "source": [
    "x_states = 2 # total number of states\n",
    "x = SX.sym('x', x_states) # symbol for states\n",
    "\n",
    "u_controls = 1 # total number of control inputs\n",
    "u = SX.sym('u', u_controls) # symbol for control inputs\n",
    "\n",
    "y_outputs = 2 # total number of outputs\n",
    "\n",
    "pred_hori = 10 # horizon"
   ]
  },
  {
   "cell_type": "markdown",
   "id": "6a065ed7-835e-4bab-b306-2db796ea6b70",
   "metadata": {},
   "source": [
    "Defining matrices"
   ]
  },
  {
   "cell_type": "code",
   "execution_count": 3,
   "id": "af7b36fd",
   "metadata": {},
   "outputs": [],
   "source": [
    "A, B, C = np.array([[1, 1], [0,1]]), np.array([[0.5], [1.0]]), np.array([[1, 0], [0, 1]])"
   ]
  },
  {
   "cell_type": "markdown",
   "id": "d240f29a-f28f-4d85-8406-e0d8f81ca90d",
   "metadata": {},
   "source": [
    "Defining evolution equations"
   ]
  },
  {
   "cell_type": "code",
   "execution_count": 4,
   "id": "a6af88b8",
   "metadata": {},
   "outputs": [],
   "source": [
    "f = Function('f', [x, u], [(A@x + B@u)]) # dynamics, e.g. state evolution, [name, input, output]\n",
    "g = Function('g', [x], [(C@x)]) # output evolution "
   ]
  },
  {
   "cell_type": "code",
   "execution_count": 5,
   "id": "a2a42254-a50e-4fb6-a99d-d5ce5c5712c0",
   "metadata": {},
   "outputs": [],
   "source": [
    "f_noise = Function('f_noise', [x, u], [((A*0.2)@x + B@u)]) # apply factor 0.2 onto A"
   ]
  },
  {
   "cell_type": "markdown",
   "id": "af5d7355-158a-4b24-b329-00116a8aff87",
   "metadata": {},
   "source": [
    "Defining cost functions"
   ]
  },
  {
   "cell_type": "code",
   "execution_count": 6,
   "id": "f2f3a133",
   "metadata": {},
   "outputs": [],
   "source": [
    "Q, R, S = np.eye(x_states), np.eye(u_controls), np.eye(x_states) # weight factors\n",
    "stage_cost = Function('stage_cost', [x, u], [(x.T@Q@x) + (u.T@R@u)])\n",
    "terminal_cost = Function('terminal_cost', [x], [x.T@S@x])"
   ]
  },
  {
   "cell_type": "markdown",
   "id": "3eb5f082-736c-4c9b-84c3-45faf076ceca",
   "metadata": {},
   "source": [
    "Defining constraints and initial values of the decision variables"
   ]
  },
  {
   "cell_type": "code",
   "execution_count": 7,
   "id": "0d904f01-4415-4656-9989-04d4895c64d0",
   "metadata": {},
   "outputs": [],
   "source": [
    "U_bound, Y_bound = 1., 1.\n",
    "u_min, u_max = -U_bound * np.ones((u_controls, 1)), U_bound * np.ones((u_controls, 1))\n",
    "y_min, y_max = -Y_bound * np.ones((y_outputs, 1)), Y_bound * np.ones((y_outputs, 1))\n",
    "\n",
    "x_init, u_init, y_init = np.zeros(x_states), np.zeros(u_controls), np.zeros(y_outputs)"
   ]
  },
  {
   "cell_type": "markdown",
   "id": "f60044e3-98ef-4642-a8ad-5788e8d26f16",
   "metadata": {},
   "source": [
    "### OCP construction"
   ]
  },
  {
   "cell_type": "code",
   "execution_count": 8,
   "id": "0508cfe7-5760-449b-bbb5-a60aced60cb8",
   "metadata": {},
   "outputs": [],
   "source": [
    "opti = Opti()"
   ]
  },
  {
   "cell_type": "markdown",
   "id": "62bfd650-150d-4717-afc8-268c525800fd",
   "metadata": {},
   "source": [
    "#### Open-loop construction"
   ]
  },
  {
   "cell_type": "code",
   "execution_count": 9,
   "id": "fc0e1ce2-7d5a-46e4-8b5d-effda8be1b62",
   "metadata": {},
   "outputs": [],
   "source": [
    "# defining containers\n",
    "J_ol = 0 # initialize cost/objective\n",
    "X_ol, U_ol, Y_ol = [0 for _ in range(pred_hori + 1)], [0 for _ in range(pred_hori)], [0 for _ in range(pred_hori + 1)] # tracking decision variables"
   ]
  },
  {
   "cell_type": "code",
   "execution_count": 10,
   "id": "ee0bba1f-631f-431c-98e9-4d727a1b915b",
   "metadata": {},
   "outputs": [],
   "source": [
    "noise_J_ol = 0 # noise cost/objective\n",
    "noise_X_ol, noise_U_ol, noise_Y_ol = deepcopy(X_ol), deepcopy(U_ol), deepcopy(Y_ol)"
   ]
  },
  {
   "cell_type": "markdown",
   "id": "ede6a4aa-9d3a-4708-92fd-18e1f39da4a4",
   "metadata": {},
   "source": [
    "Add initial decision variables"
   ]
  },
  {
   "cell_type": "code",
   "execution_count": 11,
   "id": "007b54a9-df78-4dd9-872f-c4c57fcd219c",
   "metadata": {},
   "outputs": [],
   "source": [
    "initial_state = np.array([-0.75, 0.75]).reshape(-1, 1)"
   ]
  },
  {
   "cell_type": "code",
   "execution_count": 12,
   "id": "87a96fa9-541d-4da2-876d-f41fcd298726",
   "metadata": {},
   "outputs": [],
   "source": [
    "X_ol[0], Y_ol[0] = opti.parameter(x_states), opti.variable(y_outputs)\n",
    "opti.set_value(X_ol[0], initial_state) # afix known initial state e.g. k = 1\n",
    "opti.subject_to(Y_ol[0] == g(X_ol[0])) # afix initial output decision variable e.g. k = 1"
   ]
  },
  {
   "cell_type": "code",
   "execution_count": 13,
   "id": "7710237d-f7f3-48f1-b8b9-bc9c18d137ee",
   "metadata": {},
   "outputs": [],
   "source": [
    "noise_X_ol[0], noise_Y_ol[0] = opti.parameter(x_states), opti.variable(y_outputs)\n",
    "opti.set_value(noise_X_ol[0], initial_state) # noise\n",
    "opti.subject_to(noise_Y_ol[0] == g(noise_X_ol[0])) # noise"
   ]
  },
  {
   "cell_type": "markdown",
   "id": "34c738d8-1bc3-4a72-828b-7610fbace3c6",
   "metadata": {},
   "source": [
    "Iteratively add the rest of the decision variables"
   ]
  },
  {
   "cell_type": "code",
   "execution_count": 14,
   "id": "c3e9ff50-3915-4ae8-93b2-b3c7791cf6cb",
   "metadata": {},
   "outputs": [],
   "source": [
    "for k in range(pred_hori):    \n",
    "    # Control input U\n",
    "    U_ol[k] = opti.variable(u_controls) # control input @ step k\n",
    "    opti.set_initial(U_ol[k], u_init) # initialize control input                                                            \n",
    "    opti.subject_to(opti.bounded(u_min, U_ol[k], u_max)) # constraints on control input\n",
    "    \n",
    "    # increment stage cost\n",
    "    J_ol += stage_cost(X_ol[k], U_ol[k])\n",
    "\n",
    "    # State X\n",
    "    X_ol[k + 1] = opti.variable(x_states) # state @ step k + 1\n",
    "    opti.set_initial(X_ol[k + 1], x_init) # initialize state at k + 1\n",
    "    \n",
    "    # Output Y\n",
    "    Y_ol[k + 1] = opti.variable(y_outputs) # output @ step k + 1\n",
    "    opti.set_initial(Y_ol[k + 1], y_init) # initialize output at k + 1\n",
    "    opti.subject_to(opti.bounded(y_min, Y_ol[k + 1], y_max)) # constraints on output \n",
    "\n",
    "    # constraints on dynamics and output equations\n",
    "    opti.subject_to(X_ol[k + 1] == f(X_ol[k], U_ol[k]))\n",
    "    opti.subject_to(Y_ol[k + 1] == g(X_ol[k + 1]))"
   ]
  },
  {
   "cell_type": "code",
   "execution_count": 15,
   "id": "06cb0291-c73e-4074-a7a9-7217da3f28d3",
   "metadata": {},
   "outputs": [],
   "source": [
    "# Noise decision variables\n",
    "for k in range(pred_hori):    \n",
    "    # Control input U\n",
    "    noise_U_ol[k] = opti.variable(u_controls) # noise    \n",
    "    opti.set_initial(noise_U_ol[k], u_init) # noise\n",
    "    opti.subject_to(opti.bounded(u_min, noise_U_ol[k], u_max)) # noise\n",
    "    \n",
    "    # increment stage cost\n",
    "    noise_J_ol += stage_cost(noise_X_ol[k], noise_U_ol[k]) # noise\n",
    "\n",
    "    # State X\n",
    "    noise_X_ol[k + 1] = opti.variable(x_states) # noise\n",
    "    opti.set_initial(noise_X_ol[k + 1], x_init) # noise\n",
    "    \n",
    "    # Output Y\n",
    "    noise_Y_ol[k + 1] = opti.variable(y_outputs) # output @ step k + 1\n",
    "    opti.set_initial(noise_Y_ol[k + 1], y_init) # initialize output at k + 1\n",
    "    opti.subject_to(opti.bounded(y_min, noise_Y_ol[k + 1], y_max)) # constraints on output \n",
    "\n",
    "    # constraints on dynamics and output equations\n",
    "    opti.subject_to(noise_X_ol[k + 1] == f_noise(noise_X_ol[k], noise_U_ol[k])) # noise \n",
    "    opti.subject_to(noise_Y_ol[k + 1] == g(noise_X_ol[k + 1])) # noise "
   ]
  },
  {
   "cell_type": "markdown",
   "id": "f59bb409-2b7b-458a-a649-8c75ef0e41ed",
   "metadata": {},
   "source": [
    "Terminate cost"
   ]
  },
  {
   "cell_type": "code",
   "execution_count": 16,
   "id": "a837eb6a-6744-4123-bada-689be37a31a8",
   "metadata": {},
   "outputs": [],
   "source": [
    "J_ol += terminal_cost(X_ol[-1]) # indexed for the last state\n",
    "noise_J_ol += terminal_cost(noise_X_ol[-1]) "
   ]
  },
  {
   "cell_type": "markdown",
   "id": "66c35450-e955-4a4e-88e2-708c370bd02c",
   "metadata": {},
   "source": [
    "Minimize the cost"
   ]
  },
  {
   "cell_type": "code",
   "execution_count": 17,
   "id": "95dd0b25-a2b3-4793-b828-ef57079ea135",
   "metadata": {},
   "outputs": [],
   "source": [
    "opti.minimize(J_ol)\n",
    "opti.minimize(noise_J_ol)"
   ]
  },
  {
   "cell_type": "markdown",
   "id": "ec75fe9a-31df-47d4-99ea-f4fbe2192502",
   "metadata": {},
   "source": [
    "#### Closed-loop construction"
   ]
  },
  {
   "cell_type": "code",
   "execution_count": 44,
   "id": "301fd973-9e69-49d8-95b8-3caee1506f65",
   "metadata": {},
   "outputs": [],
   "source": [
    "sim_hori = 50 # simulation horizon"
   ]
  },
  {
   "cell_type": "code",
   "execution_count": 50,
   "id": "e1b0cea9-405e-484a-9262-e23c7d3020e8",
   "metadata": {},
   "outputs": [],
   "source": [
    "# setting parameters for closed loop \n",
    "X_cl[0], Y_cl[0] = opti.parameter(x_states), opti.variable(y_outputs)\n",
    "noise_X_cl[0], noise_Y_cl[0] = opti.parameter(x_states), opti.variable(y_outputs)"
   ]
  },
  {
   "cell_type": "code",
   "execution_count": 51,
   "id": "0a2ca9b8-b816-4bb2-aa3c-8241f4959c24",
   "metadata": {},
   "outputs": [],
   "source": [
    "# defining containers\n",
    "\n",
    "J_cl = [0 for _ in range(sim_hori)] # store objective\n",
    "X_cl, U_cl, Y_cl = [[0 for _ in range(sim_hori + 1)] for _ in range(x_states)], [[0 for _ in range(sim_hori)] for _ in range(u_controls)], [[0 for _ in range(sim_hori + 1)] for _ in range(y_outputs)]\n",
    "\n",
    "#X_p_cl = matrix = [[[0 for _ in range(sim_hori + 1)] for _ in range(pred_hori + 1)] for _ in range(y_outputs)]"
   ]
  },
  {
   "cell_type": "code",
   "execution_count": 52,
   "id": "a5bdc101-a044-4415-be91-6e4fdf221d12",
   "metadata": {},
   "outputs": [],
   "source": [
    "noise_J_cl = 0 # initialize cost/objective\n",
    "noise_X_cl, noise_U_cl, noise_Y_cl = deepcopy(X_cl), deepcopy(U_cl), deepcopy(Y_cl)\n",
    "\n",
    "#noise_X_p_cl = deepcopy(X_p_cl) # predicted states"
   ]
  },
  {
   "cell_type": "markdown",
   "id": "e479687d-3c3d-4444-94b1-f5bbd60293bf",
   "metadata": {},
   "source": [
    "Set the initial set"
   ]
  },
  {
   "cell_type": "code",
   "execution_count": 59,
   "id": "418cd18d-8a8d-4c51-b1c4-0bdd22d5af98",
   "metadata": {},
   "outputs": [],
   "source": [
    "for i in range(x_states):\n",
    "    X_cl[i][0] = initial_state[i][0]"
   ]
  },
  {
   "cell_type": "code",
   "execution_count": 60,
   "id": "dea04745-d9f5-4154-97bd-da0a02bfa1cb",
   "metadata": {},
   "outputs": [],
   "source": [
    "for i in range(x_states):\n",
    "    noise_X_cl[i][0] = initial_state[i][0]"
   ]
  },
  {
   "cell_type": "markdown",
   "id": "08b0b247-00b6-401a-b67a-ee5ed6ea9db1",
   "metadata": {},
   "source": [
    "### Solve OCP"
   ]
  },
  {
   "cell_type": "markdown",
   "id": "4c9eb6af-5e61-4622-910a-07f1e890cd25",
   "metadata": {},
   "source": [
    "#### [Ipopt](https://coin-or.github.io/Ipopt/): Input solver options, then solve."
   ]
  },
  {
   "cell_type": "code",
   "execution_count": 56,
   "id": "459ecad1-3801-4470-9560-cba3793d72d6",
   "metadata": {},
   "outputs": [
    {
     "name": "stdout",
     "output_type": "stream",
     "text": [
      "      solver  :   t_proc      (avg)   t_wall      (avg)    n_eval\n",
      "       nlp_f  |  18.00us (  3.00us)  16.38us (  2.73us)         6\n",
      "       nlp_g  |  37.00us (  6.17us)  30.78us (  5.13us)         6\n",
      "  nlp_grad_f  |  26.00us (  3.71us)  23.09us (  3.30us)         7\n",
      "  nlp_hess_l  |  16.00us (  3.20us)  13.16us (  2.63us)         5\n",
      "   nlp_jac_g  |  46.00us (  6.57us)  33.01us (  4.72us)         7\n",
      "       total  |  10.06ms ( 10.06ms)   9.98ms (  9.98ms)         1\n"
     ]
    }
   ],
   "source": [
    "p_opts = {'verbose': False, 'expand': True, 'print_time': 1} # options taken from K.C. --> Ipopt options to print to console\n",
    "s_opts = {'max_iter': 1000, 'print_level': 1, 'tol': 1e-6}\n",
    "\n",
    "opti.solver('ipopt', p_opts, s_opts)\n",
    "\n",
    "soln = opti.solve()"
   ]
  },
  {
   "cell_type": "markdown",
   "id": "14205441-2cdc-4e46-9f29-fe5d3c464103",
   "metadata": {},
   "source": [
    "##### Open-loop solve"
   ]
  },
  {
   "cell_type": "code",
   "execution_count": 57,
   "id": "caa887fe-bc57-497b-8348-0792579fb423",
   "metadata": {},
   "outputs": [],
   "source": [
    "# Extract array --> reshape to column --> Transpose\n",
    "U_ol_soln = np.array([soln.value(u) for u in U_ol]).reshape(-1, u_controls).T\n",
    "X_ol_soln = np.array([soln.value(x) for x in X_ol]).reshape(-1, x_states).T\n",
    "Y_ol_soln = np.array([soln.value(y) for y in Y_ol]).reshape(-1, y_outputs).T"
   ]
  },
  {
   "cell_type": "code",
   "execution_count": 61,
   "id": "2bdcbf26-58bf-4e31-a5d7-fa308e85dd19",
   "metadata": {},
   "outputs": [],
   "source": [
    "noise_U_ol_soln = np.array([soln.value(u) for u in noise_U_ol]).reshape(-1, u_controls).T\n",
    "noise_X_ol_soln = np.array([soln.value(x) for x in noise_X_ol]).reshape(-1, x_states).T\n",
    "noise_Y_ol_soln = np.array([soln.value(y) for y in noise_Y_ol]).reshape(-1, y_outputs).T"
   ]
  },
  {
   "cell_type": "markdown",
   "id": "ad7f2d3b-0ddf-4322-87b1-a8905f9c2945",
   "metadata": {},
   "source": [
    "##### Closed-loop solve"
   ]
  },
  {
   "cell_type": "code",
   "execution_count": null,
   "id": "73ddc27f-e3ca-4c06-8dfa-1e8baf764cb1",
   "metadata": {},
   "outputs": [],
   "source": [
    "for k in range(sim_hori):\n",
    "    # Set parameters (just initial state)\n",
    "    for i in range(x_states):\n",
    "        opti.set_value(X_cl[0][i], X_cl[i][k]) # afix known initial state e.g. k = 1\n",
    "\n",
    "    # solve OCP\n",
    "    sol = opti.solve()\n",
    "    \n",
    "    # extract results\n",
    "    U_cl_soln =[sol.value(u) for u in U_cl]\n",
    "    Y_cl_soln = [sol.value(y) for y in Y_cl]\n",
    "    \n",
    "    # save results, only interested in the first optimal input\n",
    "    for i in range(u_controls):\n",
    "        U_cl[i][k] = U_cl_soln[i][0]\n",
    "    for i in range(y_outputs):\n",
    "        Y_cl[i][k] = Y_cl_soln[i][0]\n",
    "    \n",
    "    # apply input to plant\n",
    "    for i in range(x_states):\n",
    "        X_cl[i][k + 1] = f(X_cl[i][k], U_cl[i][k])\n",
    "    "
   ]
  },
  {
   "cell_type": "code",
   "execution_count": null,
   "id": "6b1bea9b-22a4-4a65-aad0-1d050965c1d9",
   "metadata": {},
   "outputs": [],
   "source": []
  },
  {
   "cell_type": "markdown",
   "id": "3cfde620-540e-4baf-9b25-614f32f4e262",
   "metadata": {},
   "source": [
    "### Plotting"
   ]
  },
  {
   "cell_type": "markdown",
   "id": "0d95f6c9-515f-4e89-8d09-3e30069ce060",
   "metadata": {},
   "source": [
    "No noise"
   ]
  },
  {
   "cell_type": "code",
   "execution_count": null,
   "id": "b28bd5a1-ef66-408a-a0f8-e94d4fde4f51",
   "metadata": {},
   "outputs": [],
   "source": [
    "# plot u, x on same x-axis (steps)\n",
    "fig, (ax1, ax2) = plt.subplots(2, 1, sharex=True)\n",
    "# X\n",
    "for j in range(X_soln.shape[0]):\n",
    "    ax1.plot(X_soln[j, :], '--', label=f'$x_{j}$')\n",
    "if j > 0:\n",
    "    ax1.legend()\n",
    "ax1.set_ylabel('x, state')\n",
    "\n",
    "# U --> step() as this is your controller knob\n",
    "for i in range(U_soln.shape[0]):\n",
    "    ax2.step(U_soln[i, :], '--', label=f'$u_{i}$')\n",
    "if i > 0:\n",
    "    ax2.legend()\n",
    "ax2.set_ylabel('u, control input')\n",
    "fig.suptitle('open-loop nominal OCP, no noise')\n",
    "ax2.set_xlabel('k, steps')\n",
    "plt.tight_layout()"
   ]
  },
  {
   "cell_type": "markdown",
   "id": "2b7b9b12-2d09-431e-be1d-a4343066d652",
   "metadata": {},
   "source": [
    "Noise"
   ]
  },
  {
   "cell_type": "code",
   "execution_count": null,
   "id": "f63e696e-655f-4f0e-823e-43f18a342c71",
   "metadata": {},
   "outputs": [],
   "source": [
    "# plot u, x on same x-axis (steps)\n",
    "fig, (ax1, ax2) = plt.subplots(2, 1, sharex=True)\n",
    "# X\n",
    "for j in range(noise_X_soln.shape[0]):\n",
    "    ax1.plot(noise_X_soln[j, :], '--', label=f'$x_{j}$')\n",
    "if j > 0:\n",
    "    ax1.legend()\n",
    "ax1.set_ylabel('x, state')\n",
    "\n",
    "# U --> step() as this is your controller knob\n",
    "for i in range(noise_U_soln.shape[0]):\n",
    "    ax2.step(noise_U_soln[i, :], '--', label=f'$u_{i}$')\n",
    "if i > 0:\n",
    "    ax2.legend()\n",
    "ax2.set_ylabel('u, control input')\n",
    "fig.suptitle('open-loop nominal OCP, with noise')\n",
    "ax2.set_xlabel('k, steps')\n",
    "plt.tight_layout()"
   ]
  },
  {
   "cell_type": "code",
   "execution_count": null,
   "id": "59ecfa68-a7fb-43a6-b204-cf204ec1f4e0",
   "metadata": {},
   "outputs": [],
   "source": []
  },
  {
   "cell_type": "code",
   "execution_count": null,
   "id": "55d81364-eb46-4e9e-bc6f-f244eb7d0a06",
   "metadata": {},
   "outputs": [],
   "source": []
  }
 ],
 "metadata": {
  "kernelspec": {
   "display_name": "Python 3 (ipykernel)",
   "language": "python",
   "name": "python3"
  },
  "language_info": {
   "codemirror_mode": {
    "name": "ipython",
    "version": 3
   },
   "file_extension": ".py",
   "mimetype": "text/x-python",
   "name": "python",
   "nbconvert_exporter": "python",
   "pygments_lexer": "ipython3",
   "version": "3.10.12"
  }
 },
 "nbformat": 4,
 "nbformat_minor": 5
}
