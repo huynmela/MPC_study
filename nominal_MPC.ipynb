{
 "cells": [
  {
   "cell_type": "code",
   "execution_count": 11,
   "id": "da82ffe1",
   "metadata": {
    "scrolled": false
   },
   "outputs": [
    {
     "ename": "ModuleNotFoundError",
     "evalue": "No module named 'casadi'",
     "output_type": "error",
     "traceback": [
      "\u001b[0;31m---------------------------------------------------------------------------\u001b[0m",
      "\u001b[0;31mModuleNotFoundError\u001b[0m                       Traceback (most recent call last)",
      "\u001b[0;32m/tmp/ipykernel_3139/1118162950.py\u001b[0m in \u001b[0;36m<module>\u001b[0;34m\u001b[0m\n\u001b[1;32m      1\u001b[0m \u001b[0;32mimport\u001b[0m \u001b[0mnumpy\u001b[0m \u001b[0;32mas\u001b[0m \u001b[0mnp\u001b[0m\u001b[0;34m\u001b[0m\u001b[0;34m\u001b[0m\u001b[0m\n\u001b[1;32m      2\u001b[0m \u001b[0;32mimport\u001b[0m \u001b[0mmatplotlib\u001b[0m\u001b[0;34m.\u001b[0m\u001b[0mpyplot\u001b[0m \u001b[0;32mas\u001b[0m \u001b[0mplt\u001b[0m\u001b[0;34m\u001b[0m\u001b[0;34m\u001b[0m\u001b[0m\n\u001b[0;32m----> 3\u001b[0;31m \u001b[0;32mfrom\u001b[0m \u001b[0mcasadi\u001b[0m \u001b[0;32mimport\u001b[0m \u001b[0;34m*\u001b[0m\u001b[0;34m\u001b[0m\u001b[0;34m\u001b[0m\u001b[0m\n\u001b[0m\u001b[1;32m      4\u001b[0m \u001b[0;32mfrom\u001b[0m \u001b[0mcopy\u001b[0m \u001b[0;32mimport\u001b[0m \u001b[0;34m*\u001b[0m\u001b[0;34m\u001b[0m\u001b[0;34m\u001b[0m\u001b[0m\n",
      "\u001b[0;31mModuleNotFoundError\u001b[0m: No module named 'casadi'"
     ]
    }
   ],
   "source": [
    "import numpy as np\n",
    "import matplotlib.pyplot as plt\n",
    "from casadi import *\n",
    "from copy import *"
   ]
  },
  {
   "cell_type": "markdown",
   "id": "6f673c5f-8b1b-44f3-9b81-9f01d298784a",
   "metadata": {
    "jp-MarkdownHeadingCollapsed": true
   },
   "source": [
    "### System information: "
   ]
  },
  {
   "cell_type": "markdown",
   "id": "5aee1f75",
   "metadata": {},
   "source": [
    "- nominal MPC (e.g. no noise or disturbances in process.)\n",
    "- OCP: double integrator model\n",
    "    - discrete-time system, linear model\n",
    "    - wish to solve minimization s.t. u,x in the form:\n",
    "        - $\\min_{x, u} x_{N}^{\\top}Q_{N}x_{N} + \\sum_{k=0}^{N-1} x_{k}^{\\top}Qx_{k}+u_{k}^{\\top}Ru_{k}$\n",
    "        - s.t.:\n",
    "            - $|u_{k}| \\leq 1 \\quad \\quad \\forall_k = 0, 1,...,N-1$\n",
    "            - $|y_{k}| \\leq 1 \\quad \\quad \\forall_k = 0, 1,...,N-1$\n",
    "        - $x(i+1) = A x(i) + B u(i)$\n",
    "        - $y(i) = C x(i)$\n",
    "    - prediction horizon: $\\quad 10$\n",
    "    - terminal cost: $\\qquad \\quad x_{N}^{\\top}Q_{N}x_{N}$\n",
    "    - stage cost: $\\qquad \\qquad \\sum_{k=0}^{N-1} x_{k}^{\\top}Rx_{k}+u_{k}^{\\top}Su_{k}$\n",
    "- using off-the-shelf packages, CasADi functions to formulate the problem, Opti to solve"
   ]
  },
  {
   "cell_type": "markdown",
   "id": "84e9a63a",
   "metadata": {},
   "source": [
    "### Setting up the problem"
   ]
  },
  {
   "cell_type": "markdown",
   "id": "3c8a929b-4805-4848-8e62-80c833901a3d",
   "metadata": {},
   "source": [
    "Defining variables to formulate problem using helper CasADI functions"
   ]
  },
  {
   "cell_type": "code",
   "execution_count": null,
   "id": "fc82b2ba-88c2-44e2-b8bb-bae7a355bdac",
   "metadata": {},
   "outputs": [],
   "source": [
    "x_states = 2 # total number of states\n",
    "x = SX.sym('x', x_states) # symbol for states\n",
    "\n",
    "u_controls = 1 # total number of control inputs\n",
    "u = SX.sym('u', u_controls) # symbol for control inputs\n",
    "\n",
    "y_outputs = 2 # total number of outputs\n",
    "\n",
    "pred_hori = 10 # horizon"
   ]
  },
  {
   "cell_type": "markdown",
   "id": "6a065ed7-835e-4bab-b306-2db796ea6b70",
   "metadata": {},
   "source": [
    "Defining matrices"
   ]
  },
  {
   "cell_type": "code",
   "execution_count": null,
   "id": "af7b36fd",
   "metadata": {},
   "outputs": [],
   "source": [
    "A, B, C = np.array([[1, 1], [0,1]]), np.array([[0.5], [1.0]]), np.array([[1, 0], [0, 1]])"
   ]
  },
  {
   "cell_type": "markdown",
   "id": "d240f29a-f28f-4d85-8406-e0d8f81ca90d",
   "metadata": {},
   "source": [
    "Defining evolution equations"
   ]
  },
  {
   "cell_type": "code",
   "execution_count": null,
   "id": "a6af88b8",
   "metadata": {},
   "outputs": [],
   "source": [
    "f = Function('f', [x, u], [(A@x + B@u)]) # dynamics, e.g. state evolution, [name, input, output]\n",
    "g = Function('g', [x], [(C@x)]) # output evolution "
   ]
  },
  {
   "cell_type": "code",
   "execution_count": null,
   "id": "a2a42254-a50e-4fb6-a99d-d5ce5c5712c0",
   "metadata": {},
   "outputs": [],
   "source": [
    "f_noise = Function('f_noise', [x, u], [((A*0.2)@x + B@u)]) # apply factor 0.2 onto A"
   ]
  },
  {
   "cell_type": "markdown",
   "id": "af5d7355-158a-4b24-b329-00116a8aff87",
   "metadata": {},
   "source": [
    "Defining cost functions"
   ]
  },
  {
   "cell_type": "code",
   "execution_count": null,
   "id": "f2f3a133",
   "metadata": {},
   "outputs": [],
   "source": [
    "Q, R, S = np.eye(x_states), np.eye(u_controls), np.eye(x_states) # weight factors\n",
    "stage_cost = Function('stage_cost', [x, u], [(x.T@Q@x) + (u.T@R@u)])\n",
    "terminal_cost = Function('terminal_cost', [x], [x.T@S@x])"
   ]
  },
  {
   "cell_type": "markdown",
   "id": "3eb5f082-736c-4c9b-84c3-45faf076ceca",
   "metadata": {},
   "source": [
    "Defining constraints and initial values of the decision variables"
   ]
  },
  {
   "cell_type": "code",
   "execution_count": null,
   "id": "0d904f01-4415-4656-9989-04d4895c64d0",
   "metadata": {},
   "outputs": [],
   "source": [
    "U_bound, Y_bound = 1., 1.\n",
    "u_min, u_max = -U_bound * np.ones((u_controls, 1)), U_bound * np.ones((u_controls, 1))\n",
    "y_min, y_max = -Y_bound * np.ones((y_outputs, 1)), Y_bound * np.ones((y_outputs, 1))\n",
    "\n",
    "x_init, u_init, y_init = np.zeros(x_states), np.zeros(u_controls), np.zeros(y_outputs)"
   ]
  },
  {
   "cell_type": "markdown",
   "id": "f60044e3-98ef-4642-a8ad-5788e8d26f16",
   "metadata": {},
   "source": [
    "### OCP construction"
   ]
  },
  {
   "cell_type": "code",
   "execution_count": null,
   "id": "0508cfe7-5760-449b-bbb5-a60aced60cb8",
   "metadata": {},
   "outputs": [],
   "source": [
    "opti = Opti()"
   ]
  },
  {
   "cell_type": "markdown",
   "id": "62bfd650-150d-4717-afc8-268c525800fd",
   "metadata": {},
   "source": [
    "#### Open-loop construction"
   ]
  },
  {
   "cell_type": "code",
   "execution_count": null,
   "id": "fc0e1ce2-7d5a-46e4-8b5d-effda8be1b62",
   "metadata": {},
   "outputs": [],
   "source": [
    "# defining containers\n",
    "X, U, Y = [0 for _ in range(pred_hori + 1)], [0 for _ in range(pred_hori)], [0 for _ in range(pred_hori + 1)] # tracking decision variables\n",
    "noise_X, noise_U, noise_Y = deepcopy(X), deepcopy(U), deepcopy(Y)"
   ]
  },
  {
   "cell_type": "code",
   "execution_count": null,
   "id": "ee0bba1f-631f-431c-98e9-4d727a1b915b",
   "metadata": {},
   "outputs": [],
   "source": [
    "J_ol = 0 # initialize cost/objective\n",
    "noise_J_ol = 0 # noise cost/objective"
   ]
  },
  {
   "cell_type": "markdown",
   "id": "ede6a4aa-9d3a-4708-92fd-18e1f39da4a4",
   "metadata": {},
   "source": [
    "Add initial decision variables"
   ]
  },
  {
   "cell_type": "code",
   "execution_count": null,
   "id": "007b54a9-df78-4dd9-872f-c4c57fcd219c",
   "metadata": {},
   "outputs": [],
   "source": [
    "initial_state = np.array([-0.75, 0.75]).reshape(-1, 1)"
   ]
  },
  {
   "cell_type": "code",
   "execution_count": null,
   "id": "87a96fa9-541d-4da2-876d-f41fcd298726",
   "metadata": {},
   "outputs": [],
   "source": [
    "X[0], Y[0] = opti.parameter(x_states), opti.variable(y_outputs)\n",
    "opti.set_value(X[0], initial_state) # afix known initial state e.g. k = 1\n",
    "opti.subject_to(Y[0] == g(X[0])) # afix initial output decision variable e.g. k = 1"
   ]
  },
  {
   "cell_type": "code",
   "execution_count": null,
   "id": "7710237d-f7f3-48f1-b8b9-bc9c18d137ee",
   "metadata": {},
   "outputs": [],
   "source": [
    "noise_X[0], noise_Y[0] = opti.parameter(x_states), opti.variable(y_outputs)\n",
    "opti.set_value(noise_X[0], initial_state) # noise\n",
    "opti.subject_to(noise_Y[0] == g(noise_X[0])) # noise"
   ]
  },
  {
   "cell_type": "markdown",
   "id": "34c738d8-1bc3-4a72-828b-7610fbace3c6",
   "metadata": {},
   "source": [
    "Iteratively add the rest of the decision variables"
   ]
  },
  {
   "cell_type": "code",
   "execution_count": null,
   "id": "c3e9ff50-3915-4ae8-93b2-b3c7791cf6cb",
   "metadata": {},
   "outputs": [],
   "source": [
    "for k in range(pred_hori):    \n",
    "    # Control input U\n",
    "    U[k] = opti.variable(u_controls) # control input @ step k\n",
    "    opti.set_initial(U[k], u_init) # initialize control input                                                            \n",
    "    opti.subject_to(opti.bounded(u_min, U[k], u_max)) # constraints on control input\n",
    "    \n",
    "    # increment stage cost\n",
    "    J_ol += stage_cost(X[k], U[k])\n",
    "\n",
    "    # State X\n",
    "    X[k + 1] = opti.variable(x_states) # state @ step k + 1\n",
    "    opti.set_initial(X[k + 1], x_init) # initialize state at k + 1\n",
    "    \n",
    "    # Output Y\n",
    "    Y[k + 1] = opti.variable(y_outputs) # output @ step k + 1\n",
    "    opti.set_initial(Y[k + 1], y_init) # initialize output at k + 1\n",
    "    opti.subject_to(opti.bounded(y_min, Y[k + 1], y_max)) # constraints on output \n",
    "\n",
    "    # constraints on dynamics and output equations\n",
    "    opti.subject_to(X[k + 1] == f(X[k], U[k]))\n",
    "    opti.subject_to(Y[k + 1] == g(X[k + 1]))"
   ]
  },
  {
   "cell_type": "code",
   "execution_count": null,
   "id": "06cb0291-c73e-4074-a7a9-7217da3f28d3",
   "metadata": {},
   "outputs": [],
   "source": [
    "# Noise decision variables\n",
    "for k in range(pred_hori):    \n",
    "    # Control input U\n",
    "    noise_U[k] = opti.variable(u_controls) # noise    \n",
    "    opti.set_initial(noise_U[k], u_init) # noise\n",
    "    opti.subject_to(opti.bounded(u_min, noise_U[k], u_max)) # noise\n",
    "    \n",
    "    # increment stage cost\n",
    "    noise_J_ol += stage_cost(noise_X[k], noise_U[k]) # noise\n",
    "\n",
    "    # State X\n",
    "    noise_X[k + 1] = opti.variable(x_states) # noise\n",
    "    opti.set_initial(noise_X[k + 1], x_init) # noise\n",
    "    \n",
    "    # Output Y\n",
    "    noise_Y[k + 1] = opti.variable(y_outputs) # output @ step k + 1\n",
    "    opti.set_initial(noise_Y[k + 1], y_init) # initialize output at k + 1\n",
    "    opti.subject_to(opti.bounded(y_min, noise_Y[k + 1], y_max)) # constraints on output \n",
    "\n",
    "    # constraints on dynamics and output equations\n",
    "    opti.subject_to(noise_X[k + 1] == f_noise(noise_X[k], noise_U[k])) # noise \n",
    "    opti.subject_to(noise_Y[k + 1] == g(noise_X[k + 1])) # noise "
   ]
  },
  {
   "cell_type": "markdown",
   "id": "f59bb409-2b7b-458a-a649-8c75ef0e41ed",
   "metadata": {},
   "source": [
    "Terminate cost"
   ]
  },
  {
   "cell_type": "code",
   "execution_count": null,
   "id": "a837eb6a-6744-4123-bada-689be37a31a8",
   "metadata": {},
   "outputs": [],
   "source": [
    "J_ol += terminal_cost(X[-1]) # indexed for the last state\n",
    "noise_J_ol += terminal_cost(noise_X[-1]) "
   ]
  },
  {
   "cell_type": "markdown",
   "id": "66c35450-e955-4a4e-88e2-708c370bd02c",
   "metadata": {},
   "source": [
    "Minimize the cost"
   ]
  },
  {
   "cell_type": "code",
   "execution_count": null,
   "id": "95dd0b25-a2b3-4793-b828-ef57079ea135",
   "metadata": {},
   "outputs": [],
   "source": [
    "opti.minimize(J_ol)\n",
    "opti.minimize(noise_J_ol)"
   ]
  },
  {
   "cell_type": "markdown",
   "id": "08b0b247-00b6-401a-b67a-ee5ed6ea9db1",
   "metadata": {},
   "source": [
    "### Solve OCP"
   ]
  },
  {
   "cell_type": "markdown",
   "id": "4c9eb6af-5e61-4622-910a-07f1e890cd25",
   "metadata": {},
   "source": [
    "#### [Ipopt](https://coin-or.github.io/Ipopt/): Input solver options, then solve."
   ]
  },
  {
   "cell_type": "code",
   "execution_count": null,
   "id": "459ecad1-3801-4470-9560-cba3793d72d6",
   "metadata": {},
   "outputs": [],
   "source": [
    "p_opts = {'verbose': False, 'expand': True, 'print_time': 1} # options taken from K.C. --> Ipopt options to print to console\n",
    "s_opts = {'max_iter': 1000, 'print_level': 1, 'tol': 1e-6}\n",
    "\n",
    "opti.solver('ipopt', p_opts, s_opts)\n",
    "\n",
    "soln = opti.solve()"
   ]
  },
  {
   "cell_type": "markdown",
   "id": "14205441-2cdc-4e46-9f29-fe5d3c464103",
   "metadata": {},
   "source": [
    "##### Open-loop solve"
   ]
  },
  {
   "cell_type": "code",
   "execution_count": null,
   "id": "caa887fe-bc57-497b-8348-0792579fb423",
   "metadata": {},
   "outputs": [],
   "source": [
    "# Extract array --> reshape to column --> Transpose\n",
    "U_soln = np.array([soln.value(u) for u in U]).reshape(-1, u_controls).T\n",
    "X_soln = np.array([soln.value(x) for x in X]).reshape(-1, x_states).T\n",
    "Y_soln = np.array([soln.value(y) for y in Y]).reshape(-1, y_outputs).T"
   ]
  },
  {
   "cell_type": "code",
   "execution_count": null,
   "id": "2bdcbf26-58bf-4e31-a5d7-fa308e85dd19",
   "metadata": {},
   "outputs": [],
   "source": [
    "noise_U_soln = np.array([soln.value(u) for u in noise_U]).reshape(-1, u_controls).T\n",
    "noise_X_soln = np.array([soln.value(x) for x in noise_X]).reshape(-1, x_states).T\n",
    "noise_Y_soln = np.array([soln.value(y) for y in noise_Y]).reshape(-1, y_outputs).T"
   ]
  },
  {
   "cell_type": "markdown",
   "id": "3cfde620-540e-4baf-9b25-614f32f4e262",
   "metadata": {},
   "source": [
    "### Plotting"
   ]
  },
  {
   "cell_type": "markdown",
   "id": "0d95f6c9-515f-4e89-8d09-3e30069ce060",
   "metadata": {},
   "source": [
    "No noise"
   ]
  },
  {
   "cell_type": "code",
   "execution_count": null,
   "id": "b28bd5a1-ef66-408a-a0f8-e94d4fde4f51",
   "metadata": {},
   "outputs": [],
   "source": [
    "save_OL_X = deepcopy(X_soln)\n",
    "save_OL_U = deepcopy(U_soln)\n",
    "\n",
    "# plot u, x on same x-axis (steps)\n",
    "fig, (ax1, ax2) = plt.subplots(2, 1, sharex=True)\n",
    "# X\n",
    "for j in range(X_soln.shape[0]):\n",
    "    ax1.plot(X_soln[j, :], '--', label=f'$x_{j}$')\n",
    "if j > 0:\n",
    "    ax1.legend()\n",
    "ax1.set_ylabel('x, state')\n",
    "\n",
    "# U --> step() as this is your controller knob\n",
    "for i in range(U_soln.shape[0]):\n",
    "    ax2.step(U_soln[i, :], '--', label=f'$u_{i}$')\n",
    "if i > 0:\n",
    "    ax2.legend()\n",
    "ax2.set_ylabel('u, control input')\n",
    "fig.suptitle('open-loop nominal OCP, no noise')\n",
    "ax2.set_xlabel('k, steps')\n",
    "ax1.set_xlim(-0.2, 10.2)\n",
    "plt.tight_layout()"
   ]
  },
  {
   "cell_type": "markdown",
   "id": "2b7b9b12-2d09-431e-be1d-a4343066d652",
   "metadata": {},
   "source": [
    "Noise"
   ]
  },
  {
   "cell_type": "code",
   "execution_count": null,
   "id": "f63e696e-655f-4f0e-823e-43f18a342c71",
   "metadata": {},
   "outputs": [],
   "source": [
    "save_nOL_X = deepcopy(noise_X_soln)\n",
    "save_nOL_U = deepcopy(noise_U_soln)\n",
    "\n",
    "# plot u, x on same x-axis (steps)\n",
    "fig, (ax1, ax2) = plt.subplots(2, 1, sharex=True)\n",
    "# X\n",
    "for j in range(noise_X_soln.shape[0]):\n",
    "    ax1.plot(noise_X_soln[j, :], '--', label=f'$x_{j}$')\n",
    "if j > 0:\n",
    "    ax1.legend()\n",
    "ax1.set_ylabel('x, state')\n",
    "\n",
    "# U --> step() as this is your controller knob\n",
    "for i in range(noise_U_soln.shape[0]):\n",
    "    ax2.step(noise_U_soln[i, :], '--', label=f'$u_{i}$')\n",
    "if i > 0:\n",
    "    ax2.legend()\n",
    "ax2.set_ylabel('u, control input')\n",
    "fig.suptitle('open-loop nominal OCP, with noise')\n",
    "ax2.set_xlabel('k, steps')\n",
    "ax1.set_xlim(-0.2, 10.2)\n",
    "plt.tight_layout()"
   ]
  },
  {
   "cell_type": "markdown",
   "id": "ec75fe9a-31df-47d4-99ea-f4fbe2192502",
   "metadata": {},
   "source": [
    "#### Closed-loop construction"
   ]
  },
  {
   "cell_type": "code",
   "execution_count": null,
   "id": "301fd973-9e69-49d8-95b8-3caee1506f65",
   "metadata": {},
   "outputs": [],
   "source": [
    "sim_hori = 50 # simulation horizon"
   ]
  },
  {
   "cell_type": "code",
   "execution_count": null,
   "id": "155b5c25-a174-4545-9620-70de59fd74c5",
   "metadata": {},
   "outputs": [],
   "source": [
    "# Extract array --> reshape to column --> Transpose\n",
    "U_soln = np.array([soln.value(u) for u in U]).reshape(-1, u_controls).T\n",
    "X_soln = np.array([soln.value(x) for x in X]).reshape(-1, x_states).T\n",
    "Y_soln = np.array([soln.value(y) for y in Y]).reshape(-1, y_outputs).T"
   ]
  },
  {
   "cell_type": "code",
   "execution_count": null,
   "id": "e3568eb9-3b88-44d9-8354-e7485b3f6016",
   "metadata": {},
   "outputs": [],
   "source": [
    "noise_U_soln = np.array([soln.value(u) for u in noise_U]).reshape(-1, u_controls).T\n",
    "noise_X_soln = np.array([soln.value(x) for x in noise_X]).reshape(-1, x_states).T\n",
    "noise_Y_soln = np.array([soln.value(y) for y in noise_Y]).reshape(-1, y_outputs).T"
   ]
  },
  {
   "cell_type": "code",
   "execution_count": null,
   "id": "3e771e4a-5533-473f-9818-bb946eeac411",
   "metadata": {},
   "outputs": [],
   "source": []
  },
  {
   "cell_type": "code",
   "execution_count": null,
   "id": "0a2ca9b8-b816-4bb2-aa3c-8241f4959c24",
   "metadata": {},
   "outputs": [],
   "source": [
    "# defining containers\n",
    "Xsim = np.zeros((x_states, sim_hori + 1)) # state evolution\n",
    "Ysim = np.zeros((y_outputs, sim_hori + 1)) # output evolution\n",
    "Usim = np.zeros((u_controls, sim_hori)) # input evolution\n",
    "Jsim = np.zeros((1, sim_hori)) # cost evolution"
   ]
  },
  {
   "cell_type": "code",
   "execution_count": null,
   "id": "a5bdc101-a044-4415-be91-6e4fdf221d12",
   "metadata": {},
   "outputs": [],
   "source": [
    "Xsim[:,0] = np.ravel(initial_state) # set the initial state\n",
    "Ysim[:,0] = np.ravel(g(Xsim[:,0]).full())"
   ]
  },
  {
   "cell_type": "markdown",
   "id": "a22b0001-0dd5-4e89-b063-6ef5bbfba6d3",
   "metadata": {},
   "source": [
    "Noise"
   ]
  },
  {
   "cell_type": "code",
   "execution_count": null,
   "id": "6e3f8021-a32c-4e6d-9f9e-cf0d33c0d0a9",
   "metadata": {},
   "outputs": [],
   "source": [
    "# defining containers\n",
    "noise_Xsim = np.zeros((x_states, sim_hori + 1)) # state evolution\n",
    "noise_Ysim = np.zeros((y_outputs, sim_hori + 1)) # output evolution\n",
    "noise_Usim = np.zeros((u_controls, sim_hori)) # input evolution\n",
    "noise_Jsim = np.zeros((1, sim_hori)) # cost evolution\n",
    "\n",
    "noise_Xsim[:,0] = np.ravel(initial_state) # set the initial state\n",
    "noise_Ysim[:,0] = np.ravel(g(Xsim[:,0]).full())"
   ]
  },
  {
   "cell_type": "markdown",
   "id": "ad7f2d3b-0ddf-4322-87b1-a8905f9c2945",
   "metadata": {},
   "source": [
    "##### Closed-loop solve"
   ]
  },
  {
   "cell_type": "code",
   "execution_count": null,
   "id": "ac164d2f-522d-4e95-9a23-68572cc7cde6",
   "metadata": {},
   "outputs": [],
   "source": [
    "for k in range(sim_hori):\n",
    "    opti.set_value(X[0], Xsim[:, k])\n",
    "    sol = opti.solve()\n",
    "    U_soln = np.array([sol.value(u) for u in U]).reshape(u_controls, -1)\n",
    "    Y_soln = np.array([sol.value(y) for y in Y]).reshape(u_controls, -1)\n",
    "    Usim[:, k] = U_soln[:, 0] # only interested in first optimal input in control\n",
    "\n",
    "    Xsim[:, k + 1] = np.ravel(f(Xsim[:, k], Usim[:, k]).full()) # apply input to plant\n",
    "    Ysim[:, k + 1] = np.ravel(g(Xsim[:, k + 1]).full())"
   ]
  },
  {
   "cell_type": "code",
   "execution_count": null,
   "id": "02f6f300-0e5d-4360-af9b-2490fdb4cc30",
   "metadata": {},
   "outputs": [],
   "source": [
    "for k in range(sim_hori):\n",
    "    opti.set_value(noise_X[0], noise_Xsim[:, k])\n",
    "    sol = opti.solve()\n",
    "    noise_U_soln = np.array([sol.value(u) for u in noise_U]).reshape(u_controls, -1)\n",
    "    noise_Y_soln = np.array([sol.value(y) for y in noise_Y]).reshape(u_controls, -1)\n",
    "    \n",
    "    noise_Usim[:, k] = noise_U_soln[:, 0] # only interested in first optimal input in control\n",
    "\n",
    "    noise_Xsim[:, k + 1] = np.ravel(f_noise(noise_Xsim[:, k], noise_Usim[:, k]).full()) # apply input to plant\n",
    "    noise_Ysim[:, k + 1] = np.ravel(g(noise_Xsim[:, k + 1]).full())"
   ]
  },
  {
   "cell_type": "code",
   "execution_count": null,
   "id": "59ecfa68-a7fb-43a6-b204-cf204ec1f4e0",
   "metadata": {},
   "outputs": [],
   "source": [
    "save_CL_X = deepcopy(Xsim)\n",
    "save_CL_U = deepcopy(Usim)\n",
    "\n",
    "# plot u, x on same x-axis (steps)\n",
    "fig, (ax1, ax2) = plt.subplots(2, 1, sharex=True)\n",
    "\n",
    "# X\n",
    "for i in range(Xsim.shape[0]):\n",
    "    ax1.plot(Xsim[i, :], '--', label=f'$x_{i}$')\n",
    "ax1.legend()\n",
    "ax1.set_ylabel('x, state')\n",
    "\n",
    "# U --> step() as this is your controller knob\n",
    "ax2.step(np.arange(Usim.shape[1]),np.ravel(Usim), '--') \n",
    "ax2.set_ylabel('u, control input')\n",
    "\n",
    "ax2.set_xlabel('k, steps')\n",
    "fig.suptitle('Closed-loop nominal MPC, no noise')\n",
    "ax1.set_xlim(-0.2, 10.2)\n",
    "plt.tight_layout()"
   ]
  },
  {
   "cell_type": "code",
   "execution_count": null,
   "id": "55d81364-eb46-4e9e-bc6f-f244eb7d0a06",
   "metadata": {},
   "outputs": [],
   "source": [
    "save_nCL_X = deepcopy(noise_Xsim)\n",
    "save_nCL_U = deepcopy(noise_Usim)\n",
    "\n",
    "# plot u, x on same x-axis (steps)\n",
    "fig, (ax1, ax2) = plt.subplots(2, 1, sharex=True)\n",
    "\n",
    "# X\n",
    "for i in range(noise_Xsim.shape[0]):\n",
    "    ax1.plot(noise_Xsim[i, :], '--', label=f'$x_{i}$')\n",
    "ax1.legend()\n",
    "ax1.set_ylabel('x, state')\n",
    "\n",
    "# U --> step() as this is your controller knob\n",
    "ax2.step(np.arange(noise_Usim.shape[1]),np.ravel(noise_Usim), '--') \n",
    "ax2.set_ylabel('u, control input')\n",
    "\n",
    "ax2.set_xlabel('k, steps')\n",
    "fig.suptitle('Closed-loop nominal MPC, with noise')\n",
    "ax1.set_xlim(-0.2, 10.2)\n",
    "plt.tight_layout()"
   ]
  },
  {
   "cell_type": "markdown",
   "id": "6ac368fd",
   "metadata": {},
   "source": [
    "### Plotting match and mismatch"
   ]
  },
  {
   "cell_type": "code",
   "execution_count": 1,
   "id": "6f2a4187-6f95-41b3-b94d-3d7c81b7971b",
   "metadata": {},
   "outputs": [],
   "source": [
    "# no noise, match plant-model\n",
    "fig, (ax1, ax2) = plt.subplots(2, 1, sharex=True)\n",
    "\n",
    "# X\n",
    "for i in range(save_CL_X.shape[0]):\n",
    "    ax1.plot(save_OL_X[i, :], '.-', label=f'$O-L x_{i}$')\n",
    "    ax1.plot(save_CL_X[i, :], '--', label=f'$C-L x_{i}$')\n",
    "ax1.legend()\n",
    "ax1.set_ylabel('x, state')\n",
    "\n",
    "# U --> step() as this is your controller knob\n",
    "ax2.step(np.arange(save_OL_U.shape[1]),np.ravel(save_OL_U), '.-', label='O-L u') \n",
    "ax2.step(np.arange(save_CL_U.shape[1]),np.ravel(save_CL_U), '--', label='C-L u') \n",
    "ax2.set_ylabel('u, control input')\n",
    "\n",
    "ax2.set_xlabel('k, steps')\n",
    "\n",
    "fig.suptitle('plant-model MATCH')\n",
    "ax1.set_xlim(-0.2, 10.2)\n",
    "plt.tight_layout()\n",
    "# (CL_X OL_X) (CL_U OL_U)"
   ]
  },
  {
   "cell_type": "code",
   "execution_count": null,
   "id": "e32cf30b",
   "metadata": {},
   "outputs": [],
   "source": [
    "# noise, mismatch plantmodel\n",
    "fig, (ax1, ax2) = plt.subplots(2, 1, sharex=True)\n",
    "\n",
    "# X\n",
    "for i in range(save_nCL_X.shape[0]):\n",
    "    ax1.plot(save_nOL_X[i, :], '.-', label=f'$O-L x_{i}$')\n",
    "    ax1.plot(save_nCL_X[i, :], '--', label=f'$C-L x_{i}$')\n",
    "ax1.legend()\n",
    "ax1.set_ylabel('x, state')\n",
    "\n",
    "# U --> step() as this is your controller knob\n",
    "ax2.step(np.arange(save_nOL_U.shape[1]),np.ravel(save_nOL_U), '.-', label='O-L u') \n",
    "ax2.step(np.arange(save_nCL_U.shape[1]),np.ravel(save_nCL_U), '--', label='C-L u') \n",
    "ax2.set_ylabel('u, control input')\n",
    "\n",
    "ax2.set_xlabel('k, steps')\n",
    "\n",
    "fig.suptitle('plant-model MISMATCH')\n",
    "ax1.set_xlim(-0.2, 10.2)\n",
    "plt.tight_layout()\n",
    "# (nCL_X nOL_X) (nCL_U nOL_U)"
   ]
  }
 ],
 "metadata": {
  "kernelspec": {
   "display_name": "Python 3 (ipykernel)",
   "language": "python",
   "name": "python3"
  },
  "language_info": {
   "codemirror_mode": {
    "name": "ipython",
    "version": 3
   },
   "file_extension": ".py",
   "mimetype": "text/x-python",
   "name": "python",
   "nbconvert_exporter": "python",
   "pygments_lexer": "ipython3",
   "version": "3.10.12"
  }
 },
 "nbformat": 4,
 "nbformat_minor": 5
}
