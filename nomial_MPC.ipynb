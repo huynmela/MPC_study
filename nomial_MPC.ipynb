{
 "cells": [
  {
   "cell_type": "markdown",
   "id": "f978d951-24a1-497e-afe6-c6530723d585",
   "metadata": {},
   "source": [
    "# This is a notebook for Melanie to study how nominal MPCs work. This is an example following [K. Chan's MPC tutorial](https://github.com/kchan45/MPC_tutorials/blob/main/Python/mpc_demo.ipynb). "
   ]
  },
  {
   "cell_type": "code",
   "execution_count": 29,
   "id": "da82ffe1",
   "metadata": {
    "scrolled": true
   },
   "outputs": [],
   "source": [
    "import numpy as np\n",
    "import matplotlib.pyplot as plt\n",
    "from casadi import *"
   ]
  },
  {
   "cell_type": "markdown",
   "id": "5aee1f75",
   "metadata": {},
   "source": [
    "### Aim: Understand how to set up MPC. Goal of MPC is to solve finite-time OCP at each time step, take optimal inputs obtained from solution of this OCP and use them to control the system. Then, feedback from the system will be incorporated int othe next OCP.\n",
    "\n",
    "System information: \n",
    "- nominal MPC (e.g. no noise or disturbances in process.)\n",
    "- OCP: double integrator model\n",
    "    - discrete-time system, linear model\n",
    "    - wish to solve minimization s.t. u,x in the form:\n",
    "        - $\\min_{x, u} x_{N}^{\\top}Q_{N}x_{N} + \\sum_{k=0}^{N-1} x_{k}^{\\top}Qx_{k}+u_{k}^{\\top}Ru_{k}$\n",
    "        - s.t.:\n",
    "            - $|u_{k}| \\leq 1 \\quad \\quad \\forall k = 0, 1,...,N-1$\n",
    "            - $|y_{k}| \\leq 1 \\quad \\quad \\forall k = 0, 1,...,N-1$\n",
    "        - $x(i+1) = A x(i) + B u(i)$\n",
    "        - $y(i) = C x(i)$\n",
    "    - prediction horizon: $\\quad 10$\n",
    "    - terminal cost: $\\qquad \\quad x_{N}^{\\top}Q_{N}x_{N}$\n",
    "    - stage cost: $\\qquad \\qquad \\sum_{k=0}^{N-1} x_{k}^{\\top}Qx_{k}+u_{k}^{\\top}Ru_{k}$\n",
    "- using off-the-shelf packages, CasADi functions to formulate the problem, Opti to solve"
   ]
  },
  {
   "cell_type": "markdown",
   "id": "84e9a63a",
   "metadata": {},
   "source": [
    "### Setting up the problem"
   ]
  },
  {
   "cell_type": "markdown",
   "id": "3c8a929b-4805-4848-8e62-80c833901a3d",
   "metadata": {},
   "source": [
    "Defining variables to formulate problem using helper CasADI functions"
   ]
  },
  {
   "cell_type": "code",
   "execution_count": 39,
   "id": "fc82b2ba-88c2-44e2-b8bb-bae7a355bdac",
   "metadata": {},
   "outputs": [],
   "source": [
    "x_states = 2 # total number of states\n",
    "x = SX.sym('x', x_states) # symbol for states\n",
    "\n",
    "u_inputs = 1 # total number of inputs\n",
    "u = SX.sym('u', u_inputs) # symbol for inputs\n",
    "\n",
    "y_outputs = 1 # total number of outputs"
   ]
  },
  {
   "cell_type": "markdown",
   "id": "6a065ed7-835e-4bab-b306-2db796ea6b70",
   "metadata": {},
   "source": [
    "Defining the arrays for the double integrator problem "
   ]
  },
  {
   "cell_type": "code",
   "execution_count": 40,
   "id": "af7b36fd",
   "metadata": {},
   "outputs": [],
   "source": [
    "A, B, C = array([[1, 1], [0,1]]), array([[0.5], [1.0]]), array([[1, 0]])"
   ]
  },
  {
   "cell_type": "markdown",
   "id": "d240f29a-f28f-4d85-8406-e0d8f81ca90d",
   "metadata": {},
   "source": [
    "Defining evolution equations "
   ]
  },
  {
   "cell_type": "code",
   "execution_count": 41,
   "id": "a6af88b8",
   "metadata": {},
   "outputs": [],
   "source": [
    "f = Function('f', [x, u], [A @ x + B @ u]) # dynamics, e.g. state evolution\n",
    "g = Function('g', [x], [C @ x ]) # output evolution "
   ]
  },
  {
   "cell_type": "markdown",
   "id": "af5d7355-158a-4b24-b329-00116a8aff87",
   "metadata": {},
   "source": [
    "Defining cost functions"
   ]
  },
  {
   "cell_type": "code",
   "execution_count": 42,
   "id": "f2f3a133",
   "metadata": {},
   "outputs": [],
   "source": [
    "Q, QN, R = np.eye(x_states), np.eye(x_states), np.eye(u_inputs) # weights for the cost\n",
    "    # note that np.eye creates a 2D array with 1s on the diagonal, 0s else {https://numpy.org/devdocs/reference/generated/numpy.eye.html}\n",
    "stage_cost = Function('stage_cost', [x, u], [x.T @ R @ u])\n",
    "terminal_cost = Function('terminal_cost', [x], [x.T @ QN @ x])"
   ]
  },
  {
   "cell_type": "markdown",
   "id": "3eb5f082-736c-4c9b-84c3-45faf076ceca",
   "metadata": {},
   "source": [
    "Defining constraints and initial values of the decision variables"
   ]
  },
  {
   "cell_type": "code",
   "execution_count": 44,
   "id": "0d904f01-4415-4656-9989-04d4895c64d0",
   "metadata": {},
   "outputs": [],
   "source": [
    "U_bound, Y_bound = 1., 1. # Check with K.C. --> Q: why are the bounds floats?; A: \n",
    "u_min, u_max = -U_bound * np.ones((u_inputs, 1)), U_bound * np.ones((u_inputs, 1))\n",
    "y_min, y_max = -Y_bound * np.ones((y_outputs, 1)), Y_bound * np.ones((y_outputs, 1))\n",
    "\n",
    "x_init, u_init, y_init = np.zeros(x_states), np.zeros(u_inputs), np.zeros(y_outputs) \n",
    "# NOTE: best to avoid making shallow/deep copy for learning purposes. Essentially all deep copies anw..."
   ]
  },
  {
   "cell_type": "markdown",
   "id": "c3404bfe-3f62-4086-81cc-a723585f1804",
   "metadata": {},
   "source": [
    "### Using Opti for OCP structure"
   ]
  },
  {
   "cell_type": "code",
   "execution_count": null,
   "id": "fc0e1ce2-7d5a-46e4-8b5d-effda8be1b62",
   "metadata": {},
   "outputs": [],
   "source": []
  },
  {
   "cell_type": "code",
   "execution_count": null,
   "id": "0508cfe7-5760-449b-bbb5-a60aced60cb8",
   "metadata": {},
   "outputs": [],
   "source": []
  },
  {
   "cell_type": "code",
   "execution_count": null,
   "id": "c32a6667-4795-4452-b1bd-1cb96aa19f3b",
   "metadata": {},
   "outputs": [],
   "source": []
  }
 ],
 "metadata": {
  "kernelspec": {
   "display_name": "Python 3 (ipykernel)",
   "language": "python",
   "name": "python3"
  },
  "language_info": {
   "codemirror_mode": {
    "name": "ipython",
    "version": 3
   },
   "file_extension": ".py",
   "mimetype": "text/x-python",
   "name": "python",
   "nbconvert_exporter": "python",
   "pygments_lexer": "ipython3",
   "version": "3.10.12"
  }
 },
 "nbformat": 4,
 "nbformat_minor": 5
}
