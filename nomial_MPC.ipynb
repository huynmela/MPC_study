{
 "cells": [
  {
   "cell_type": "markdown",
   "id": "76e290f6",
   "metadata": {},
   "source": [
    "## This is a notebook for Melanie to study how nominal MPCs work. This is an example following [K. Chan's MPC tutorial](https://github.com/kchan45/MPC_tutorials/blob/main/Python/mpc_demo.ipynb). "
   ]
  },
  {
   "cell_type": "markdown",
   "id": "5aee1f75",
   "metadata": {},
   "source": [
    "System information: \n",
    "- nominal MPC (e.g. no noise or disturbances in process.)\n",
    "- OCP: double integrator model\n",
    "    - wish to solve minimization s.t. u,x in the form:\n",
    "    $x(i+1) = A x(i) + B u(i)$;\n",
    "    $y(i) = C x(i)$\n",
    "- using off-the-shelf packages, helper CasADi functions to formulate the problem"
   ]
  },
  {
   "cell_type": "code",
   "execution_count": 4,
   "id": "da82ffe1",
   "metadata": {},
   "outputs": [],
   "source": [
    "import numpy as np\n",
    "import matplotlib.pyplot as plt\n",
    "import casadi as cas"
   ]
  },
  {
   "cell_type": "markdown",
   "id": "84e9a63a",
   "metadata": {},
   "source": [
    "Aim: Understand how to set up MPC. Goal of MPC is to solve finite-time OCP at each time step, take optimal inputs obtained from solution of this OCP and use them to control the system. Then, feedback from the system will be incorporated int othe next OCP."
   ]
  },
  {
   "cell_type": "code",
   "execution_count": 10,
   "id": "5e92869d",
   "metadata": {},
   "outputs": [],
   "source": [
    "# Defining variables to formulate problem using helper CasADI functions\n",
    "\n",
    "x_states = 5 # total number of states\n",
    "x = cas.SX.sym('x', x_states) # symbol for states\n",
    "\n",
    "u_inputs = 1 # total number of inputs\n",
    "u = cas.SX.sym('u', u_inputs) # symbol for inputs\n",
    "\n",
    "y_outputs = 1 # total nubmer of outputs"
   ]
  },
  {
   "cell_type": "code",
   "execution_count": 16,
   "id": "af7b36fd",
   "metadata": {},
   "outputs": [],
   "source": [
    "# Defining the arrays for the double integrator problem\n",
    "A, B, C = np.array([[1, 1], [0,1]]), np.array([[0.5], [1.0]]), np.array([[1, 0]])"
   ]
  },
  {
   "cell_type": "code",
   "execution_count": 28,
   "id": "a6af88b8",
   "metadata": {
    "scrolled": false
   },
   "outputs": [
    {
     "ename": "TypeError",
     "evalue": "operand type(s) all returned NotImplemented from __array_ufunc__(<ufunc 'matmul'>, '__call__', array([[1, 1],\n       [0, 1]]), SX([x_0, x_1, x_2, x_3, x_4])): 'ndarray', 'SX'",
     "output_type": "error",
     "traceback": [
      "\u001b[0;31m---------------------------------------------------------------------------\u001b[0m",
      "\u001b[0;31mTypeError\u001b[0m                                 Traceback (most recent call last)",
      "Cell \u001b[0;32mIn[28], line 3\u001b[0m\n\u001b[1;32m      1\u001b[0m \u001b[38;5;66;03m#Defining \u001b[39;00m\n\u001b[0;32m----> 3\u001b[0m x_next \u001b[38;5;241m=\u001b[39m A \u001b[38;5;241m@\u001b[39m x \u001b[38;5;66;03m# matrix multiplcation\u001b[39;00m\n\u001b[1;32m      5\u001b[0m \u001b[38;5;66;03m# Dynamics, e.g. state evolution\u001b[39;00m\n\u001b[1;32m      6\u001b[0m f \u001b[38;5;241m=\u001b[39m cas\u001b[38;5;241m.\u001b[39mFunction(\u001b[38;5;124m'\u001b[39m\u001b[38;5;124mf\u001b[39m\u001b[38;5;124m'\u001b[39m, [x, u], [x_next])\n",
      "\u001b[0;31mTypeError\u001b[0m: operand type(s) all returned NotImplemented from __array_ufunc__(<ufunc 'matmul'>, '__call__', array([[1, 1],\n       [0, 1]]), SX([x_0, x_1, x_2, x_3, x_4])): 'ndarray', 'SX'"
     ]
    }
   ],
   "source": [
    "#Defining \n",
    "\n",
    "x_next = A @ x # matrix multiplcation\n",
    "\n",
    "# Dynamics, e.g. state evolution\n",
    "f = cas.Function('f', [x, u], [x_next])\n"
   ]
  },
  {
   "cell_type": "code",
   "execution_count": null,
   "id": "f2f3a133",
   "metadata": {},
   "outputs": [],
   "source": []
  }
 ],
 "metadata": {
  "kernelspec": {
   "display_name": "Python 3 (ipykernel)",
   "language": "python",
   "name": "python3"
  },
  "language_info": {
   "codemirror_mode": {
    "name": "ipython",
    "version": 3
   },
   "file_extension": ".py",
   "mimetype": "text/x-python",
   "name": "python",
   "nbconvert_exporter": "python",
   "pygments_lexer": "ipython3",
   "version": "3.11.4"
  }
 },
 "nbformat": 4,
 "nbformat_minor": 5
}
