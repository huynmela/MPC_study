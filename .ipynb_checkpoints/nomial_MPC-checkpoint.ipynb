{
 "cells": [
  {
   "cell_type": "markdown",
   "id": "22147254",
   "metadata": {},
   "source": [
    "## This is a notebook for Melanie to study how nominal MPCs work. This is an example following [K. Chan's MPC tutorial](https://github.com/kchan45/MPC_tutorials/blob/main/Python/mpc_demo.ipynb). "
   ]
  },
  {
   "cell_type": "markdown",
   "id": "5d531fb0",
   "metadata": {},
   "source": [
    "System information: \n",
    "- nominal MPC (e.g. no noise or disturbances in process.)\n",
    "- OCP: double integrator model\n",
    "    - wish to solve minimization s.t. u,x in the form:\n",
    "    $x(i+1) = A x(i) + B u(i)$;\n",
    "    $y(i) = C x(i)$\n",
    "- using off-the-shelf packages, helper CasADi functions to formulate the problem"
   ]
  },
  {
   "cell_type": "code",
   "execution_count": 4,
   "id": "b2d487e4",
   "metadata": {},
   "outputs": [],
   "source": [
    "import numpy as np\n",
    "import matplotlib.pyplot as plt\n",
    "import casadi as cas"
   ]
  },
  {
   "cell_type": "markdown",
   "id": "39296df7",
   "metadata": {},
   "source": [
    "Aim: Understand how to set up MPC. Goal of MPC is to solve finite-time OCP at each time step, take optimal inputs obtained from solution of this OCP and use them to control the system. Then, feedback from the system will be incorporated int othe next OCP."
   ]
  },
  {
   "cell_type": "code",
   "execution_count": 10,
   "id": "3c07e785",
   "metadata": {},
   "outputs": [],
   "source": [
    "# Defining variables to formulate problem using helper CasADI functions\n",
    "\n",
    "x_states = 5 # total number of states\n",
    "x = cas.SX.sym('x', x_states) # symbol for states\n",
    "\n",
    "u_inputs = 1 # total number of inputs\n",
    "u = cas.SX.sym('u', u_inputs) # symbol for inputs\n",
    "\n",
    "y_outputs = 1 # total nubmer of outputs"
   ]
  },
  {
   "cell_type": "code",
   "execution_count": 16,
   "id": "7f348286",
   "metadata": {},
   "outputs": [],
   "source": [
    "# Defining the arrays for the double integrator problem\n",
    "A, B, C = np.array([[1, 1], [0,1]]), np.array([[0.5], [1.0]]), np.array([[1, 0]])"
   ]
  },
  {
   "cell_type": "code",
   "execution_count": null,
   "id": "5056fdd9",
   "metadata": {},
   "outputs": [],
   "source": [
    "#Defining \n",
    "\n",
    "x_next = A@x + B@u # matrix multiplcation\n",
    "\n",
    "# Dynamics, e.g. state evolution\n",
    "f = cas.Function('f', [x, u], [x_next])\n"
   ]
  }
 ],
 "metadata": {
  "kernelspec": {
   "display_name": "Python 3 (ipykernel)",
   "language": "python",
   "name": "python3"
  },
  "language_info": {
   "codemirror_mode": {
    "name": "ipython",
    "version": 3
   },
   "file_extension": ".py",
   "mimetype": "text/x-python",
   "name": "python",
   "nbconvert_exporter": "python",
   "pygments_lexer": "ipython3",
   "version": "3.11.4"
  }
 },
 "nbformat": 4,
 "nbformat_minor": 5
}
