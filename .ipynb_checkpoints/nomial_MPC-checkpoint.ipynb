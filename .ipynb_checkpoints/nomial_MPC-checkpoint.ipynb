{
 "cells": [
  {
   "cell_type": "markdown",
   "id": "f978d951-24a1-497e-afe6-c6530723d585",
   "metadata": {},
   "source": [
    "# This is a notebook for Melanie to study how nominal MPCs work. This is an example following [K. Chan's MPC tutorial](https://github.com/kchan45/MPC_tutorials/blob/main/Python/mpc_demo.ipynb). "
   ]
  },
  {
   "cell_type": "code",
   "execution_count": 1,
   "id": "da82ffe1",
   "metadata": {
    "scrolled": true
   },
   "outputs": [],
   "source": [
    "import numpy as np\n",
    "import matplotlib.pyplot as plt\n",
    "from casadi import *"
   ]
  },
  {
   "cell_type": "markdown",
   "id": "5aee1f75",
   "metadata": {},
   "source": [
    "### Aim: Understand how to set up MPC. Goal of MPC is to solve finite-time OCP at each time step, take optimal control inputs obtained from solution of this OCP and use them to control the system. Then, feedback from the system will be incorporated int othe next OCP.\n",
    "\n",
    "System information: \n",
    "- nominal MPC (e.g. no noise or disturbances in process.)\n",
    "- OCP: double integrator model\n",
    "    - discrete-time system, linear model\n",
    "    - wish to solve minimization s.t. u,x in the form:\n",
    "        - $\\min_{x, u} x_{N}^{\\top}Q_{N}x_{N} + \\sum_{k=0}^{N-1} x_{k}^{\\top}Qx_{k}+u_{k}^{\\top}Ru_{k}$\n",
    "        - s.t.:\n",
    "            - $|u_{k}| \\leq 1 \\quad \\quad \\forall k = 0, 1,...,N-1$\n",
    "            - $|y_{k}| \\leq 1 \\quad \\quad \\forall k = 0, 1,...,N-1$\n",
    "        - $x(i+1) = A x(i) + B u(i)$\n",
    "        - $y(i) = C x(i)$\n",
    "    - prediction horizon: $\\quad 10$\n",
    "    - terminal cost: $\\qquad \\quad x_{N}^{\\top}Q_{N}x_{N}$\n",
    "    - stage cost: $\\qquad \\qquad \\sum_{k=0}^{N-1} x_{k}^{\\top}Qx_{k}+u_{k}^{\\top}Ru_{k}$\n",
    "- using off-the-shelf packages, CasADi functions to formulate the problem, Opti to solve"
   ]
  },
  {
   "cell_type": "markdown",
   "id": "84e9a63a",
   "metadata": {},
   "source": [
    "### Setting up the problem"
   ]
  },
  {
   "cell_type": "markdown",
   "id": "3c8a929b-4805-4848-8e62-80c833901a3d",
   "metadata": {},
   "source": [
    "Defining variables to formulate problem using helper CasADI functions"
   ]
  },
  {
   "cell_type": "code",
   "execution_count": 2,
   "id": "fc82b2ba-88c2-44e2-b8bb-bae7a355bdac",
   "metadata": {},
   "outputs": [],
   "source": [
    "x_states = 2 # total number of states\n",
    "x = SX.sym('x', x_states) # symbol for states\n",
    "u_controls = 1 # total number of control inputs\n",
    "u = SX.sym('u', u_controls) # symbol for control inputs\n",
    "y_outputs = 1 # total number of outputs"
   ]
  },
  {
   "cell_type": "markdown",
   "id": "6a065ed7-835e-4bab-b306-2db796ea6b70",
   "metadata": {},
   "source": [
    "Defining the arrays for the double integrator problem "
   ]
  },
  {
   "cell_type": "code",
   "execution_count": 3,
   "id": "af7b36fd",
   "metadata": {},
   "outputs": [],
   "source": [
    "A, B, C = np.array([[1, 1], [0,1]]), np.array([[0.5], [1.0]]), np.array([[1, 0]])"
   ]
  },
  {
   "cell_type": "markdown",
   "id": "d240f29a-f28f-4d85-8406-e0d8f81ca90d",
   "metadata": {},
   "source": [
    "Defining evolution equations "
   ]
  },
  {
   "cell_type": "code",
   "execution_count": 4,
   "id": "a6af88b8",
   "metadata": {},
   "outputs": [],
   "source": [
    "f = Function('f', [x, u], [(A@x + B@u)]) # dynamics, e.g. state evolution\n",
    "g = Function('g', [x], [(C@x)]) # output evolution "
   ]
  },
  {
   "cell_type": "markdown",
   "id": "af5d7355-158a-4b24-b329-00116a8aff87",
   "metadata": {},
   "source": [
    "Defining cost functions"
   ]
  },
  {
   "cell_type": "code",
   "execution_count": 5,
   "id": "f2f3a133",
   "metadata": {},
   "outputs": [],
   "source": [
    "Q, QN, R = np.eye(x_states), np.eye(x_states), np.eye(u_controls) # weights for the cost\n",
    "    # note that np.eye creates a 2D array with 1s on the diagonal, 0s else {https://numpy.org/devdocs/reference/generated/numpy.eye.html}\n",
    "stage_cost = Function('stage_cost', [x, u], [(x.T@Q@x) + (u.T@R@u)])\n",
    "terminal_cost = Function('terminal_cost', [x], [x.T@QN@x])"
   ]
  },
  {
   "cell_type": "markdown",
   "id": "3eb5f082-736c-4c9b-84c3-45faf076ceca",
   "metadata": {},
   "source": [
    "Defining constraints and initial values of the decision variables"
   ]
  },
  {
   "cell_type": "code",
   "execution_count": 6,
   "id": "0d904f01-4415-4656-9989-04d4895c64d0",
   "metadata": {},
   "outputs": [],
   "source": [
    "U_bound, Y_bound = 1., 1.\n",
    "u_min, u_max = -U_bound * np.ones((u_controls, 1)), U_bound * np.ones((u_controls, 1))\n",
    "y_min, y_max = -Y_bound * np.ones((y_outputs, 1)), Y_bound * np.ones((y_outputs, 1))\n",
    "\n",
    "x_init, u_init, y_init = np.zeros(x_states), np.zeros(u_controls), np.zeros(y_outputs)"
   ]
  },
  {
   "cell_type": "markdown",
   "id": "c3404bfe-3f62-4086-81cc-a723585f1804",
   "metadata": {},
   "source": [
    "### Using Opti for OCP structure"
   ]
  },
  {
   "cell_type": "markdown",
   "id": "62bfd650-150d-4717-afc8-268c525800fd",
   "metadata": {},
   "source": [
    "Defining OCP constants"
   ]
  },
  {
   "cell_type": "code",
   "execution_count": 7,
   "id": "0508cfe7-5760-449b-bbb5-a60aced60cb8",
   "metadata": {},
   "outputs": [],
   "source": [
    "opti = Opti()"
   ]
  },
  {
   "cell_type": "code",
   "execution_count": 8,
   "id": "fc0e1ce2-7d5a-46e4-8b5d-effda8be1b62",
   "metadata": {},
   "outputs": [],
   "source": [
    "pred_hori = 10 # prediction horizon\n",
    "J = 0 # initialize cost/objective\n",
    "X, U, Y = [0 for _ in range(pred_hori + 1)], [0 for _ in range(pred_hori)], [0 for _ in range(pred_hori + 1)] # tracking decision variables"
   ]
  },
  {
   "cell_type": "markdown",
   "id": "ede6a4aa-9d3a-4708-92fd-18e1f39da4a4",
   "metadata": {},
   "source": [
    "Add initial decision variables"
   ]
  },
  {
   "cell_type": "code",
   "execution_count": 9,
   "id": "87a96fa9-541d-4da2-876d-f41fcd298726",
   "metadata": {},
   "outputs": [],
   "source": [
    "X[0], Y[0] = opti.parameter(x_states), opti.variable(y_outputs)\n",
    "opti.set_value(X[0], np.array([-0.75, 0.75]).reshape(-1, 1)) # afix known initial state e.g. k = 1\n",
    "opti.subject_to(Y[0] == g(X[0])) # afix initial output decision variable e.g. k = 1"
   ]
  },
  {
   "cell_type": "markdown",
   "id": "34c738d8-1bc3-4a72-828b-7610fbace3c6",
   "metadata": {},
   "source": [
    "Iteratively add the rest of the decision variables"
   ]
  },
  {
   "cell_type": "code",
   "execution_count": 10,
   "id": "c3e9ff50-3915-4ae8-93b2-b3c7791cf6cb",
   "metadata": {},
   "outputs": [],
   "source": [
    "for k in range(pred_hori):    \n",
    "    # Control input U\n",
    "    U[k] = opti.variable(u_controls) # control input @ step k\n",
    "    opti.set_initial(U[k], u_init) # initialize control input                                                            \n",
    "    opti.subject_to(opti.bounded(u_min, U[k], u_max)) # constraints on control input\n",
    "\n",
    "    # increment stage cost\n",
    "    J += stage_cost(X[k], U[k])\n",
    "\n",
    "    # State X\n",
    "    X[k + 1] = opti.variable(x_states) # state @ step k + 1\n",
    "    opti.set_initial(X[k + 1], x_init) # initialize state at k + 1\n",
    "    # can add constraints to the state here \n",
    "    \n",
    "    # Output Y\n",
    "    Y[k + 1] = opti.variable(y_outputs) # output @ step k + 1\n",
    "    opti.set_initial(Y[k + 1], y_init) # initialize output at k + 1\n",
    "    opti.subject_to(opti.bounded(y_min, Y[k + 1], y_max)) # constraints on output \n",
    "\n",
    "    # constraints on dynamics and output equations\n",
    "    opti.subject_to(X[k + 1] == f(X[k], U[k]))\n",
    "    opti.subject_to(Y[k + 1] == g(X[k + 1]))"
   ]
  },
  {
   "cell_type": "markdown",
   "id": "f59bb409-2b7b-458a-a649-8c75ef0e41ed",
   "metadata": {},
   "source": [
    "Terminate cost"
   ]
  },
  {
   "cell_type": "code",
   "execution_count": 11,
   "id": "a837eb6a-6744-4123-bada-689be37a31a8",
   "metadata": {},
   "outputs": [],
   "source": [
    "J += terminal_cost(X[-1]) # indexed for the last state"
   ]
  },
  {
   "cell_type": "markdown",
   "id": "66c35450-e955-4a4e-88e2-708c370bd02c",
   "metadata": {},
   "source": [
    "Minimize the cost"
   ]
  },
  {
   "cell_type": "code",
   "execution_count": 12,
   "id": "95dd0b25-a2b3-4793-b828-ef57079ea135",
   "metadata": {},
   "outputs": [],
   "source": [
    "opti.minimize(J)"
   ]
  },
  {
   "cell_type": "markdown",
   "id": "4c9eb6af-5e61-4622-910a-07f1e890cd25",
   "metadata": {},
   "source": [
    "### [Ipopt](https://coin-or.github.io/Ipopt/): Input solver options, then solve."
   ]
  },
  {
   "cell_type": "code",
   "execution_count": 13,
   "id": "459ecad1-3801-4470-9560-cba3793d72d6",
   "metadata": {},
   "outputs": [
    {
     "name": "stdout",
     "output_type": "stream",
     "text": [
      "\n",
      "******************************************************************************\n",
      "This program contains Ipopt, a library for large-scale nonlinear optimization.\n",
      " Ipopt is released as open source code under the Eclipse Public License (EPL).\n",
      "         For more information visit https://github.com/coin-or/Ipopt\n",
      "******************************************************************************\n",
      "\n",
      "      solver  :   t_proc      (avg)   t_wall      (avg)    n_eval\n",
      "       nlp_f  | 114.00us ( 16.29us)  28.35us (  4.05us)         7\n",
      "       nlp_g  | 173.00us ( 24.71us)  37.61us (  5.37us)         7\n",
      "  nlp_grad_f  | 181.00us ( 22.63us)  37.16us (  4.65us)         8\n",
      "  nlp_hess_l  |  89.00us ( 14.83us)  22.30us (  3.72us)         6\n",
      "   nlp_jac_g  | 175.00us ( 21.88us)  39.37us (  4.92us)         8\n",
      "       total  |  51.59ms ( 51.59ms)  11.71ms ( 11.71ms)         1\n"
     ]
    }
   ],
   "source": [
    "p_opts = {'verbose': 0, 'expand': True, 'print_time': 1} # options taken from K.C. --> Ipopt options to print to console\n",
    "s_opts = {'max_iter': 1000, 'print_level': 1, 'tol': 1e-6}\n",
    "\n",
    "opti.solver('ipopt', p_opts, s_opts)\n",
    "soln = opti.solve()"
   ]
  },
  {
   "cell_type": "markdown",
   "id": "03d7b747-a214-4e31-a1ea-7e73f373ea53",
   "metadata": {},
   "source": [
    "Extract decision variables"
   ]
  },
  {
   "cell_type": "code",
   "execution_count": 14,
   "id": "caa887fe-bc57-497b-8348-0792579fb423",
   "metadata": {},
   "outputs": [],
   "source": [
    "# Extract array --> reshape to column --> Transpose\n",
    "U_soln = np.array([soln.value(u) for u in U]).reshape(-1, u_controls).T\n",
    "X_soln = np.array([soln.value(x) for x in X]).reshape(-1, x_states).T\n",
    "Y_soln = np.array([soln.value(y) for y in Y]).reshape(-1, y_outputs).T"
   ]
  },
  {
   "cell_type": "markdown",
   "id": "08b0b247-00b6-401a-b67a-ee5ed6ea9db1",
   "metadata": {},
   "source": [
    "### Plot results of open-loop solution (single trajectory for OCP)\n",
    "Note to self: Plot for two separate states (-1 and 1) based on imposed constraints."
   ]
  },
  {
   "cell_type": "code",
   "execution_count": 18,
   "id": "b28bd5a1-ef66-408a-a0f8-e94d4fde4f51",
   "metadata": {},
   "outputs": [
    {
     "data": {
      "image/png": "[encoded data removed]",
      "text/plain": [
       "<Figure size 640x480 with 3 Axes>"
      ]
     },
     "metadata": {},
     "output_type": "display_data"
    }
   ],
   "source": [
    "# plot u, x, and y on same x-axis (steps)\n",
    "fig, (ax1, ax2, ax3) = plt.subplots(3, 1, sharex=True)\n",
    "\n",
    "# U --> step() as this is your controller knob\n",
    "for i in range(U_soln.shape[0]):\n",
    "    ax1.step(U_soln[i, :], '--', label=f'$u_{i}$')\n",
    "if i > 0:\n",
    "    ax1.legend()\n",
    "ax1.set_ylabel('u, control input')\n",
    "\n",
    "# X and Y are plot() since it's assumed this is 'linearly' affected by your controller\n",
    "# X\n",
    "for j in range(X_soln.shape[0]):\n",
    "    ax2.plot(X_soln[j, :], '--', label=f'$x_{j}$')\n",
    "if j > 0:\n",
    "    ax2.legend()\n",
    "ax2.set_ylabel('x, state')\n",
    "\n",
    "# Y\n",
    "for m in range(Y_soln.shape[0]):\n",
    "    ax3.plot(Y_soln[m, :], '--', label=f'$y_{m}$')\n",
    "if m > 0:\n",
    "    ax3.legend()\n",
    "ax3.set_ylabel('y, output')\n",
    "\n",
    "ax3.set_xlabel('k, steps')\n",
    "plt.tight_layout()"
   ]
  },
  {
   "cell_type": "code",
   "execution_count": 19,
   "id": "2c5d8587-eafc-47ad-bc92-c6324141e66b",
   "metadata": {},
   "outputs": [],
   "source": [
    "# K.C. advice:\n",
    "# another plot state --> x --> x[0], y --> x[1], exp. convergence to the middle\n",
    "\n",
    "# warning solver error infeasible prob detected/large grad./infinity detected in closed-looped?\n",
    "# ill-posed problem or typo~ in theory works but not implementing, more likely to be user-error\n",
    "# debug: If not much known about the system, soften constraints to see if code runs"
   ]
  },
  {
   "cell_type": "code",
   "execution_count": null,
   "id": "f63e696e-655f-4f0e-823e-43f18a342c71",
   "metadata": {},
   "outputs": [],
   "source": []
  }
 ],
 "metadata": {
  "kernelspec": {
   "display_name": "Python 3 (ipykernel)",
   "language": "python",
   "name": "python3"
  },
  "language_info": {
   "codemirror_mode": {
    "name": "ipython",
    "version": 3
   },
   "file_extension": ".py",
   "mimetype": "text/x-python",
   "name": "python",
   "nbconvert_exporter": "python",
   "pygments_lexer": "ipython3",
   "version": "3.10.12"
  }
 },
 "nbformat": 4,
 "nbformat_minor": 5
}
