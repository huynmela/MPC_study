{
 "cells": [
  {
   "cell_type": "markdown",
   "id": "673f127e-db2f-438a-b464-fb2e63402353",
   "metadata": {},
   "source": [
    "#### Replicating [Chan et. al 2023](https://ieeexplore.ieee.org/document/10156650/) Fig. 3\n",
    "Differences: \n",
    "- nominal\n",
    "- no iterations\n",
    "- not robust\n",
    "- 1 scenario only"
   ]
  },
  {
   "cell_type": "code",
   "execution_count": 1,
   "id": "298c21d1-6a5c-4612-b375-e3bd2b21fc93",
   "metadata": {},
   "outputs": [],
   "source": [
    "import numpy as np\n",
    "import matplotlib.pyplot as plt\n",
    "from casadi import *\n",
    "from copy import *\n",
    "import scipy.io"
   ]
  },
  {
   "cell_type": "markdown",
   "id": "bb42dfb4-274f-4977-98d7-4e0a8bedc1db",
   "metadata": {},
   "source": [
    "### Loading in information"
   ]
  },
  {
   "cell_type": "code",
   "execution_count": 2,
   "id": "6ae8969e-7f00-4a3f-bb3b-a9acfe367991",
   "metadata": {},
   "outputs": [],
   "source": [
    "model = scipy.io.loadmat('data/mat/APPJmodel_2022_09_22_17h28m06s.mat') # load in model data"
   ]
  },
  {
   "cell_type": "code",
   "execution_count": 16,
   "id": "e055038b-2436-4d38-bff5-379ffed82930",
   "metadata": {},
   "outputs": [],
   "source": [
    "ts = 0.5 # sampling time\n",
    "Tref = 43.0 # reference temperature\n",
    "Tmax = 45.0 # max temp. for patient comfort\n",
    "Np = 5 # prediction horizon\n",
    "Ns = Np # simulation horizon\n",
    "\n",
    "Kcem = 0.5"
   ]
  },
  {
   "cell_type": "code",
   "execution_count": 10,
   "id": "89f9fe14-6917-49cf-85f4-d445bb502475",
   "metadata": {},
   "outputs": [],
   "source": [
    "# Linear model used for control\n",
    "A, B = model['A'], model['B']\n",
    "C, D = model['C'], 0 # C = identity, D = 0\n",
    "\n",
    "xss = np.ravel(model['yss']) \n",
    "uss = np.ravel(model['uss'])"
   ]
  },
  {
   "cell_type": "code",
   "execution_count": 9,
   "id": "593f5472-cb6c-4085-ac94-6c0990d4c42e",
   "metadata": {},
   "outputs": [],
   "source": [
    "# Linear model used for plant\n",
    "Ap, Bp = model['A'], model['B']\n",
    "Cp, Dp = model['C'], 0 # C = identity, D = 0\n",
    "\n",
    "xssp = np.ravel(model['yss'])\n",
    "ussp = np.ravel(model['uss'])"
   ]
  },
  {
   "cell_type": "code",
   "execution_count": 11,
   "id": "8bab4f40-70e8-4ffe-bcb2-f0e79a13cd66",
   "metadata": {},
   "outputs": [],
   "source": [
    "x0 = np.zeros((2,))"
   ]
  },
  {
   "cell_type": "code",
   "execution_count": 12,
   "id": "4a4d878a-4861-4efe-a001-53de6a1e03fb",
   "metadata": {},
   "outputs": [],
   "source": [
    "nx, nu, ny = A.shape[1], B.shape[1], C.shape[0] # num. states, inputs (q, P), outputs (Ts, I)\n",
    "nyc = 1 # num. controlled outputs"
   ]
  },
  {
   "cell_type": "code",
   "execution_count": 15,
   "id": "b4e826b4-e41a-4785-a64c-a13f826a0a5b",
   "metadata": {},
   "outputs": [],
   "source": [
    "# constraint bounds\n",
    "u_min, u_max = np.array([1.5, 1.5]) - uss, np.array([5, 5]) - uss\n",
    "x_min, x_max = np.array([25,0]) - xss, np.array([Tmax, 80]) - xss\n",
    "y_min, y_max = x_min, x_max\n",
    "\n",
    "u_init, x_init, y_init = (u_min + u_max) / 2, (x_min + x_max) / 2, (y_min + y_max) / 2"
   ]
  },
  {
   "cell_type": "code",
   "execution_count": 22,
   "id": "5575d8b9-b698-4456-9062-a613b8eac28f",
   "metadata": {},
   "outputs": [],
   "source": [
    "# casadi functions\n",
    "x, u, yref, Ts = SX.sym('x', nx), SX.sym('u', nu), SX.sym('yref', nyc), SX.sym('Ts', nyc)"
   ]
  },
  {
   "cell_type": "code",
   "execution_count": 19,
   "id": "ca72db4d-b12e-4a00-8a8e-0b80c000e721",
   "metadata": {},
   "outputs": [],
   "source": [
    "# dynamics functions (prediction model)\n",
    "xnext = A@x + B@u\n",
    "f = Function('f', [x, u], [xnext])\n",
    "\n",
    "# output equation (control model)\n",
    "y = C@x\n",
    "h = Function('h', [x], [y])\n",
    "\n",
    "# controlled output equation\n",
    "ymeas = SX.sym('ymeas', ny)\n",
    "yc = ymeas[0]\n",
    "r = Function('r', [ymeas], [yc])\n",
    "\n",
    "# plant model\n",
    "xnextp = A@x + B@u\n",
    "fp = Function('fp', [x, u], [xnextp])\n",
    "\n",
    "# output for plant\n",
    "yp = C@x\n",
    "hp = Function('hp', [x], [yp])"
   ]
  },
  {
   "cell_type": "code",
   "execution_count": 23,
   "id": "3901c4c1-d80d-4fc9-b032-31e8ef006137",
   "metadata": {},
   "outputs": [],
   "source": [
    "# CEM output\n",
    "CEM = Kcem ** (Tref - Ts) * ts / 60\n",
    "CEMadd = Function('CEMadd', [Ts], [CEM])\n",
    "\n",
    "# stage cost (nonlinear CEM cost)\n",
    "lstg = Kcem ** (Tref - (x[0] + xss[0])) * ts / 60\n",
    "lstage = Function('lstage', [x], [lstg])"
   ]
  },
  {
   "cell_type": "markdown",
   "id": "b46c2d35-121e-4973-bb6c-c31a57db3688",
   "metadata": {},
   "source": [
    "### Set up solver"
   ]
  },
  {
   "cell_type": "code",
   "execution_count": 24,
   "id": "33e1e52e-7944-4a47-84b0-313a49a26b80",
   "metadata": {},
   "outputs": [],
   "source": [
    "# containers\n",
    "X = [0 for _ in range(Np + 1)]\n",
    "U = [0 for _ in range(Np)]\n",
    "Y = [0 for _ in range(Np + 1)]"
   ]
  },
  {
   "cell_type": "code",
   "execution_count": 25,
   "id": "f3c9766c-79f6-4259-a2f2-4a6ae09dc55f",
   "metadata": {},
   "outputs": [],
   "source": [
    "J = 0 # init. cost/objective function"
   ]
  },
  {
   "cell_type": "code",
   "execution_count": 26,
   "id": "52dd29ec-48df-4b4c-9b36-ea97ce655f84",
   "metadata": {},
   "outputs": [],
   "source": [
    "opti = Opti()"
   ]
  },
  {
   "cell_type": "code",
   "execution_count": 28,
   "id": "7fd2a895-c663-4dcf-b249-38d505a5acb7",
   "metadata": {},
   "outputs": [],
   "source": [
    "CEMref = opti.parameter(nyc) # target/reference output, fixed during optimization\n",
    "opti.set_value(CEMref, np.zeros((nyc, 1))) # set value of parameter\n",
    "\n",
    "CEM0 = opti.parameter(nyc) # initial CEM \n",
    "opti.set_value(CEM0, np.zeros((nyc, 1))) # set value of intial CEM parameter\n",
    "\n",
    "X[0] = opti.parameter(nx) # initial state as parameter\n",
    "opti.set_value(X[0], np.zeros((nx, 1))) # set value of intial state parameter\n",
    "\n",
    "Y[0] = opti.variable(ny) # output as decision variable \n",
    "opti.subject_to(Y[0] == h(X[0])) # define output constraints based on initial state\n",
    "opti.set_initial(Y[0], y_init) # define initial output "
   ]
  },
  {
   "cell_type": "code",
   "execution_count": 31,
   "id": "0b9060ba-9f85-49c4-8963-d931b4ecad02",
   "metadata": {},
   "outputs": [],
   "source": [
    "for k in range(Np): \n",
    "    # controller @ k\n",
    "    U[k] = opti.variable(nu) # controller input as decision variable\n",
    "    opti.subject_to(opti.bounded(u_min, U[k], u_max)) # define controller input constraints\n",
    "    opti.set_initial(U[k], u_init) # define initial controller input\n",
    "\n",
    "    # increment stage cost \n",
    "    Jstage = lstage(X[k])\n",
    "    J += Jstage\n",
    "\n",
    "    # state @ k+1\n",
    "    X[k + 1] = opti.variable(nx) # state at k+1 as decision variable\n",
    "    opti.subject_to(opti.bounded(x_min, X[k + 1], x_max)) # define state constraints\n",
    "    opti.set_initial(X[k + 1], x_init) # define initial state \n",
    "\n",
    "    # output @ k+1\n",
    "    Y[k + 1] = opti.variable(ny) # output at k+1 as decision variable\n",
    "    opti.subject_to(opti.bounded(y_min, Y[k +1], y_max)) # define state constraints\n",
    "    opti.set_initial(Y[k + 1], y_init) # define initial output\n",
    "\n",
    "    # dynamics constraint\n",
    "    opti.subject_to(X[k + 1] == f(X[k], U[k]))\n",
    "    # output equality constraint\n",
    "    opti.subject_to(Y[k + 1] == h(X[k + 1]))"
   ]
  },
  {
   "cell_type": "code",
   "execution_count": 37,
   "id": "fdaf023d-5d1e-47bf-9723-d77304b7460c",
   "metadata": {},
   "outputs": [],
   "source": [
    "# calculate the terminal cost, note no splits or iterations\n",
    "J_end = lstage(X[-1])\n",
    "Jcon = J + CEM0\n",
    "\n",
    "J = (Jcon - CEMref) ** 2\n",
    "\n",
    "# minimize cost\n",
    "opti.minimize(J)"
   ]
  },
  {
   "cell_type": "code",
   "execution_count": 38,
   "id": "6ce4c633-b245-4d79-9a6c-740c420b11d9",
   "metadata": {},
   "outputs": [
    {
     "name": "stdout",
     "output_type": "stream",
     "text": [
      "\n",
      "******************************************************************************\n",
      "This program contains Ipopt, a library for large-scale nonlinear optimization.\n",
      " Ipopt is released as open source code under the Eclipse Public License (EPL).\n",
      "         For more information visit https://github.com/coin-or/Ipopt\n",
      "******************************************************************************\n",
      "\n",
      "      solver  :   t_proc      (avg)   t_wall      (avg)    n_eval\n",
      "       nlp_f  |  44.00us (  4.89us)  37.60us (  4.18us)         9\n",
      "       nlp_g  |  33.00us (  3.67us)  29.76us (  3.31us)         9\n",
      "  nlp_grad_f  |  32.00us (  3.20us)  28.45us (  2.84us)        10\n",
      "  nlp_hess_l  |  37.00us (  4.62us)  21.57us (  2.70us)         8\n",
      "   nlp_jac_g  |  26.00us (  2.60us)  26.80us (  2.68us)        10\n",
      "       total  | 126.26ms (126.26ms)  76.79ms ( 76.79ms)         1\n"
     ]
    }
   ],
   "source": [
    "# solver info\n",
    "p_opts = {'verbose': False, 'expand': True, 'print_time': 1} # options taken from K.C. --> Ipopt options to print to console\n",
    "s_opts = {'max_iter': 1000, 'print_level': 1, 'tol': 1e-6}\n",
    "\n",
    "opti.solver('ipopt', p_opts, s_opts)\n",
    "\n",
    "soln = opti.solve()"
   ]
  },
  {
   "cell_type": "code",
   "execution_count": 39,
   "id": "7925a923-1cb5-416a-a676-805543f2b5c8",
   "metadata": {},
   "outputs": [],
   "source": [
    "# list of containers \n",
    "\n",
    "# prediction values\n",
    "U_soln = np.asarray([soln.value(u) for u in U]).reshape(-1, nu).T\n",
    "X_soln = np.asarray([soln.value(x) for x in X]).reshape(-1, nx).T\n",
    "Y_soln = np.asarray([soln.value(y) for y in Y]).reshape(-1, ny).T\n",
    "\n",
    "U_sim = np.zeros((nu, Np))\n",
    "X_sim = np.zeros((nx, Np + 1))\n",
    "Y_sim = np.zeros((ny, Np + 1))\n",
    "\n",
    "X"
   ]
  },
  {
   "cell_type": "code",
   "execution_count": null,
   "id": "7ec4422b-1ba5-4194-b121-f27af27ca05c",
   "metadata": {},
   "outputs": [],
   "source": []
  }
 ],
 "metadata": {
  "kernelspec": {
   "display_name": "Python 3 (ipykernel)",
   "language": "python",
   "name": "python3"
  },
  "language_info": {
   "codemirror_mode": {
    "name": "ipython",
    "version": 3
   },
   "file_extension": ".py",
   "mimetype": "text/x-python",
   "name": "python",
   "nbconvert_exporter": "python",
   "pygments_lexer": "ipython3",
   "version": "3.10.12"
  }
 },
 "nbformat": 4,
 "nbformat_minor": 5
}
