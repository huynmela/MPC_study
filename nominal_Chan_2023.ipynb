{
 "cells": [
  {
   "cell_type": "markdown",
   "id": "673f127e-db2f-438a-b464-fb2e63402353",
   "metadata": {},
   "source": [
    "#### Replicating a nominal version of [Chan et. al 2023](https://ieeexplore.ieee.org/document/10156650/)"
   ]
  },
  {
   "cell_type": "markdown",
   "id": "ded7dace-d1a2-4e20-b1ac-d440c90418c6",
   "metadata": {},
   "source": []
  },
  {
   "cell_type": "code",
   "execution_count": 2,
   "id": "298c21d1-6a5c-4612-b375-e3bd2b21fc93",
   "metadata": {},
   "outputs": [],
   "source": [
    "import numpy as np\n",
    "import matplotlib.pyplot as plt\n",
    "from casadi import *\n",
    "from copy import *\n",
    "import scipy.io"
   ]
  },
  {
   "cell_type": "code",
   "execution_count": 3,
   "id": "6ae8969e-7f00-4a3f-bb3b-a9acfe367991",
   "metadata": {},
   "outputs": [],
   "source": [
    "mat = scipy.io.loadmat('data/mat/APPJmodel_2022_09_22_17h28m06s.mat') # load in model data"
   ]
  },
  {
   "cell_type": "code",
   "execution_count": 5,
   "id": "593f5472-cb6c-4085-ac94-6c0990d4c42e",
   "metadata": {},
   "outputs": [],
   "source": [
    "nx = 2 # Sec. V. A scenarios {T, I, CEM}\n",
    "nu = 2 # {P, q}\n",
    "ny = 2 # {T, I}\n",
    "\n",
    "x, u, y = SX.sym('x', nx), SX.sym('u', nu), SX.sym('y', ny)"
   ]
  },
  {
   "cell_type": "code",
   "execution_count": 6,
   "id": "e055038b-2436-4d38-bff5-379ffed82930",
   "metadata": {},
   "outputs": [],
   "source": [
    "Np = 5 # prediction horizon\n",
    "Tref = 43 # reference temeprature 'C\n",
    "dt = 0.5 # seconds, sampling time"
   ]
  },
  {
   "cell_type": "code",
   "execution_count": 7,
   "id": "89f9fe14-6917-49cf-85f4-d445bb502475",
   "metadata": {},
   "outputs": [],
   "source": [
    "# \"State-space matrices identified through subspace identification\" \n",
    "# \"... defined in terms of deviation variables around a nominal operating condition.\" - pg. 2770\n",
    "A, B = mat['A'], mat['B']\n",
    "C, D = mat['C'], 0 # C = identity, D = 0"
   ]
  },
  {
   "cell_type": "code",
   "execution_count": 8,
   "id": "8bab4f40-70e8-4ffe-bcb2-f0e79a13cd66",
   "metadata": {},
   "outputs": [],
   "source": [
    "yss, uss = mat['yss'][0], mat['uss'][0] # nominal steady states for output and input, centers?"
   ]
  },
  {
   "cell_type": "code",
   "execution_count": 16,
   "id": "5575d8b9-b698-4456-9062-a613b8eac28f",
   "metadata": {},
   "outputs": [],
   "source": [
    "CEM_min, CEM_max = 0., 1.5\n",
    "\n",
    "P_min, P_max = 1.5, 3.5\n",
    "q_min, q_max = 3.5, 7.5\n",
    "\n",
    "T_min, T_max = 25., 45.\n",
    "I_min, I_max = 20., 80.\n",
    "\n",
    "u_init, x_init, y_init = np.zeros(nu), np.zeros((nx, 1)), np.zeros(ny)"
   ]
  },
  {
   "cell_type": "code",
   "execution_count": 10,
   "id": "ca72db4d-b12e-4a00-8a8e-0b80c000e721",
   "metadata": {},
   "outputs": [],
   "source": [
    "f = Function('f', [x, u], [(A@x + B@u)])\n",
    "g = Function('g', [x, u], [(C@x + D@u)])"
   ]
  },
  {
   "cell_type": "code",
   "execution_count": 11,
   "id": "33e1e52e-7944-4a47-84b0-313a49a26b80",
   "metadata": {},
   "outputs": [],
   "source": [
    "X = [0 for _ in range(Np + 1)]\n",
    "U = [0 for _ in range(Np)]\n",
    "Y = [0 for _ in range(Np + 1)]"
   ]
  },
  {
   "cell_type": "code",
   "execution_count": 12,
   "id": "f3c9766c-79f6-4259-a2f2-4a6ae09dc55f",
   "metadata": {},
   "outputs": [],
   "source": [
    "J = 0"
   ]
  },
  {
   "cell_type": "code",
   "execution_count": 13,
   "id": "52dd29ec-48df-4b4c-9b36-ea97ce655f84",
   "metadata": {},
   "outputs": [],
   "source": [
    "opti = Opti()"
   ]
  },
  {
   "cell_type": "code",
   "execution_count": null,
   "id": "7fd2a895-c663-4dcf-b249-38d505a5acb7",
   "metadata": {},
   "outputs": [],
   "source": [
    "X[0] = opti.parameter(nx)\n",
    "Y[0] = opti.parameter(ny)\n",
    "opti.set_value(X[0], x_init)\n",
    "opti.set_value(Y[0], y_init)"
   ]
  }
 ],
 "metadata": {
  "kernelspec": {
   "display_name": "Python 3 (ipykernel)",
   "language": "python",
   "name": "python3"
  },
  "language_info": {
   "codemirror_mode": {
    "name": "ipython",
    "version": 3
   },
   "file_extension": ".py",
   "mimetype": "text/x-python",
   "name": "python",
   "nbconvert_exporter": "python",
   "pygments_lexer": "ipython3",
   "version": "3.10.12"
  }
 },
 "nbformat": 4,
 "nbformat_minor": 5
}
