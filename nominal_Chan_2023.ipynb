{
 "cells": [
  {
   "cell_type": "markdown",
   "id": "673f127e-db2f-438a-b464-fb2e63402353",
   "metadata": {},
   "source": [
    "#### Replicating a nominal version of [Chan et. al 2023](https://ieeexplore.ieee.org/document/10156650/)"
   ]
  },
  {
   "cell_type": "markdown",
   "id": "ded7dace-d1a2-4e20-b1ac-d440c90418c6",
   "metadata": {},
   "source": []
  }
 ],
 "metadata": {
  "kernelspec": {
   "display_name": "Python 3 (ipykernel)",
   "language": "python",
   "name": "python3"
  },
  "language_info": {
   "codemirror_mode": {
    "name": "ipython",
    "version": 3
   },
   "file_extension": ".py",
   "mimetype": "text/x-python",
   "name": "python",
   "nbconvert_exporter": "python",
   "pygments_lexer": "ipython3",
   "version": "3.10.12"
  }
 },
 "nbformat": 4,
 "nbformat_minor": 5
}
