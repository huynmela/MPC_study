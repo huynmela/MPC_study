{
 "cells": [
  {
   "cell_type": "markdown",
   "id": "673f127e-db2f-438a-b464-fb2e63402353",
   "metadata": {},
   "source": [
    "#### Replicating [Chan et. al 2023](https://ieeexplore.ieee.org/document/10156650/) Fig. 3\n",
    "Differences: \n",
    "- nominal\n",
    "- no iterations\n",
    "- not robust\n",
    "- 1 scenario only"
   ]
  },
  {
   "cell_type": "code",
   "execution_count": 34,
   "id": "e926f932-7aea-406a-8797-578a0f355475",
   "metadata": {},
   "outputs": [],
   "source": [
    "# ex. cl_data\n",
    "s = np.load('data/trial_exp/trial0_iter0_sim_data.npy', allow_pickle=True).item()\n",
    "sim_data = s['rep0']\n",
    "sim_data = sim_data['sim_data']\n"
   ]
  },
  {
   "cell_type": "code",
   "execution_count": 44,
   "id": "0e15499c-ce2a-4a59-8f2e-cb07943a8e76",
   "metadata": {},
   "outputs": [
    {
     "data": {
      "text/plain": [
       "(2, 240)"
      ]
     },
     "execution_count": 44,
     "metadata": {},
     "output_type": "execute_result"
    }
   ],
   "source": [
    "np.shape(sim_data['Usim'])"
   ]
  },
  {
   "cell_type": "code",
   "execution_count": 1,
   "id": "298c21d1-6a5c-4612-b375-e3bd2b21fc93",
   "metadata": {},
   "outputs": [],
   "source": [
    "import numpy as np\n",
    "import matplotlib.pyplot as plt\n",
    "from casadi import *\n",
    "from copy import *\n",
    "import scipy.io"
   ]
  },
  {
   "cell_type": "markdown",
   "id": "bb42dfb4-274f-4977-98d7-4e0a8bedc1db",
   "metadata": {},
   "source": [
    "### Loading in information"
   ]
  },
  {
   "cell_type": "code",
   "execution_count": 2,
   "id": "6ae8969e-7f00-4a3f-bb3b-a9acfe367991",
   "metadata": {},
   "outputs": [],
   "source": [
    "model = scipy.io.loadmat('data/mat/APPJmodel_2022_09_22_17h28m06s.mat') # load in model data"
   ]
  },
  {
   "cell_type": "code",
   "execution_count": 3,
   "id": "e055038b-2436-4d38-bff5-379ffed82930",
   "metadata": {},
   "outputs": [],
   "source": [
    "ts = 0.5 # sampling time\n",
    "Tref = 43.0 # reference temperature\n",
    "Tmax = 45.0 # max temp. for patient comfort\n",
    "Np = 5 # prediction horizon\n",
    "\n",
    "Kcem = 0.5"
   ]
  },
  {
   "cell_type": "code",
   "execution_count": 4,
   "id": "89f9fe14-6917-49cf-85f4-d445bb502475",
   "metadata": {},
   "outputs": [],
   "source": [
    "# Linear model used for control\n",
    "A, B = model['A'], model['B']\n",
    "C, D = model['C'], 0 # C = identity, D = 0\n",
    "\n",
    "xss = np.ravel(model['yss']) \n",
    "uss = np.ravel(model['uss'])"
   ]
  },
  {
   "cell_type": "code",
   "execution_count": 5,
   "id": "8bab4f40-70e8-4ffe-bcb2-f0e79a13cd66",
   "metadata": {},
   "outputs": [],
   "source": [
    "x0 = np.zeros((2,))"
   ]
  },
  {
   "cell_type": "code",
   "execution_count": 6,
   "id": "4a4d878a-4861-4efe-a001-53de6a1e03fb",
   "metadata": {},
   "outputs": [],
   "source": [
    "nx, nu, ny = A.shape[1], B.shape[1], C.shape[0] # num. states, inputs (q, P), outputs (Ts, I)\n",
    "nyc = 1 # num. controlled outputs"
   ]
  },
  {
   "cell_type": "code",
   "execution_count": 7,
   "id": "b4e826b4-e41a-4785-a64c-a13f826a0a5b",
   "metadata": {},
   "outputs": [],
   "source": [
    "# constraint bounds\n",
    "u_min, u_max = np.array([1.5, 1.5]) - uss, np.array([5, 5]) - uss\n",
    "x_min, x_max = np.array([25,0]) - xss, np.array([Tmax, 80]) - xss\n",
    "y_min, y_max = x_min, x_max\n",
    "\n",
    "u_init, x_init, y_init = (u_min + u_max) / 2, (x_min + x_max) / 2, (y_min + y_max) / 2"
   ]
  },
  {
   "cell_type": "code",
   "execution_count": 8,
   "id": "5575d8b9-b698-4456-9062-a613b8eac28f",
   "metadata": {},
   "outputs": [],
   "source": [
    "# casadi functions\n",
    "x, u, yref, Ts = SX.sym('x', nx), SX.sym('u', nu), SX.sym('yref', nyc), SX.sym('Ts', nyc)"
   ]
  },
  {
   "cell_type": "code",
   "execution_count": 9,
   "id": "ca72db4d-b12e-4a00-8a8e-0b80c000e721",
   "metadata": {},
   "outputs": [],
   "source": [
    "# dynamics functions (prediction model)\n",
    "xnext = A@x + B@u\n",
    "f = Function('f', [x, u], [xnext])\n",
    "\n",
    "# output equation (control model)\n",
    "y = C@x\n",
    "h = Function('h', [x], [y])"
   ]
  },
  {
   "cell_type": "code",
   "execution_count": 10,
   "id": "3901c4c1-d80d-4fc9-b032-31e8ef006137",
   "metadata": {},
   "outputs": [],
   "source": [
    "# CEM output--> K is an exponential based (substracte), Tref = 43'C, ts = sampling time\n",
    "CEM = Kcem ** (Tref - Ts) * ts / 60 \n",
    "\n",
    "# stage cost (nonlinear CEM cost)\n",
    "lstg = Kcem ** (Tref - (x[0] + xss[0])) * ts / 60\n",
    "lstage = Function('lstage', [x], [lstg])"
   ]
  },
  {
   "cell_type": "markdown",
   "id": "b46c2d35-121e-4973-bb6c-c31a57db3688",
   "metadata": {},
   "source": [
    "### Set up solver"
   ]
  },
  {
   "cell_type": "code",
   "execution_count": 11,
   "id": "33e1e52e-7944-4a47-84b0-313a49a26b80",
   "metadata": {},
   "outputs": [],
   "source": [
    "# containers\n",
    "X = [0 for _ in range(Np + 1)]\n",
    "U = [0 for _ in range(Np)]\n",
    "Y = [0 for _ in range(Np + 1)]"
   ]
  },
  {
   "cell_type": "code",
   "execution_count": 12,
   "id": "f3c9766c-79f6-4259-a2f2-4a6ae09dc55f",
   "metadata": {},
   "outputs": [],
   "source": [
    "J = 0 # init. cost/objective function"
   ]
  },
  {
   "cell_type": "code",
   "execution_count": 13,
   "id": "52dd29ec-48df-4b4c-9b36-ea97ce655f84",
   "metadata": {},
   "outputs": [],
   "source": [
    "opti = Opti()"
   ]
  },
  {
   "cell_type": "code",
   "execution_count": 14,
   "id": "7fd2a895-c663-4dcf-b249-38d505a5acb7",
   "metadata": {},
   "outputs": [],
   "source": [
    "CEMref = opti.parameter(nyc) # target/reference output, fixed during optimization\n",
    "opti.set_value(CEMref, np.zeros((nyc, 1))) # set value of parameter\n",
    "\n",
    "CEM0 = opti.parameter(nyc) # initial CEM \n",
    "opti.set_value(CEM0, np.zeros((nyc, 1))) # set value of initial CEM parameter\n",
    "\n",
    "X[0] = opti.parameter(nx) # initial state as parameter\n",
    "opti.set_value(X[0], np.zeros((nx, 1))) # set value of initial state parameter\n",
    "\n",
    "Y[0] = opti.variable(ny) # output as decision variable \n",
    "opti.subject_to(Y[0] == h(X[0])) # define output constraints based on initial state\n",
    "opti.set_initial(Y[0], y_init) # define initial output "
   ]
  },
  {
   "cell_type": "code",
   "execution_count": 15,
   "id": "0b9060ba-9f85-49c4-8963-d931b4ecad02",
   "metadata": {},
   "outputs": [],
   "source": [
    "for k in range(Np): \n",
    "    # controller @ k\n",
    "    U[k] = opti.variable(nu) # controller input as decision variable\n",
    "    opti.subject_to(opti.bounded(u_min, U[k], u_max)) # define controller input constraints\n",
    "    opti.set_initial(U[k], u_init) # define initial controller input\n",
    "\n",
    "    # increment stage cost \n",
    "    Jstage = lstage(X[k])\n",
    "    J += Jstage\n",
    "\n",
    "    # state @ k+1\n",
    "    X[k + 1] = opti.variable(nx) # state at k+1 as decision variable\n",
    "    opti.subject_to(opti.bounded(x_min, X[k + 1], x_max)) # define state constraints\n",
    "    opti.set_initial(X[k + 1], x_init) # define initial state \n",
    "\n",
    "    # output @ k+1\n",
    "    Y[k + 1] = opti.variable(ny) # output at k+1 as decision variable\n",
    "    opti.subject_to(opti.bounded(y_min, Y[k +1], y_max)) # define state constraints\n",
    "    opti.set_initial(Y[k + 1], y_init) # define initial output\n",
    "\n",
    "    # dynamics constraint\n",
    "    opti.subject_to(X[k + 1] == f(X[k], U[k]))\n",
    "    # output equality constraint\n",
    "    opti.subject_to(Y[k + 1] == h(X[k + 1]))"
   ]
  },
  {
   "cell_type": "code",
   "execution_count": 16,
   "id": "fdaf023d-5d1e-47bf-9723-d77304b7460c",
   "metadata": {},
   "outputs": [],
   "source": [
    "# calculate the terminal cost, note no splits or iterations\n",
    "J_end = lstage(X[-1])\n",
    "Jcon = J + CEM0\n",
    "\n",
    "J = (Jcon - CEMref) ** 2 # eq. 6 control objective \n",
    "\n",
    "# minimize cost\n",
    "opti.minimize(J)"
   ]
  },
  {
   "cell_type": "code",
   "execution_count": 17,
   "id": "6ce4c633-b245-4d79-9a6c-740c420b11d9",
   "metadata": {},
   "outputs": [
    {
     "name": "stdout",
     "output_type": "stream",
     "text": [
      "\n",
      "******************************************************************************\n",
      "This program contains Ipopt, a library for large-scale nonlinear optimization.\n",
      " Ipopt is released as open source code under the Eclipse Public License (EPL).\n",
      "         For more information visit https://github.com/coin-or/Ipopt\n",
      "******************************************************************************\n",
      "\n",
      "      solver  :   t_proc      (avg)   t_wall      (avg)    n_eval\n",
      "       nlp_f  | 119.00us ( 10.82us)  48.31us (  4.39us)        11\n",
      "       nlp_g  | 186.00us ( 16.91us)  70.09us (  6.37us)        11\n",
      "  nlp_grad_f  | 177.00us ( 14.75us)  73.45us (  6.12us)        12\n",
      "  nlp_hess_l  | 142.00us ( 14.20us)  61.47us (  6.15us)        10\n",
      "   nlp_jac_g  | 192.00us ( 16.00us)  77.90us (  6.49us)        12\n",
      "       total  |  43.33ms ( 43.33ms)  18.07ms ( 18.07ms)         1\n"
     ]
    }
   ],
   "source": [
    "# solver info\n",
    "p_opts = {'verbose': False, 'expand': True, 'print_time': 1} # options taken from K.C. --> Ipopt options to print to console\n",
    "s_opts = {'max_iter': 1000, 'print_level': 1, 'tol': 1e-6}\n",
    "\n",
    "opti.solver('ipopt', p_opts, s_opts)\n",
    "\n",
    "soln = opti.solve()"
   ]
  },
  {
   "cell_type": "code",
   "execution_count": 18,
   "id": "7925a923-1cb5-416a-a676-805543f2b5c8",
   "metadata": {},
   "outputs": [],
   "source": [
    "# list of containers \n",
    "\n",
    "# prediction values\n",
    "U_soln = np.asarray([soln.value(u) for u in U]).reshape(-1, nu).T\n",
    "X_soln = np.asarray([soln.value(x) for x in X]).reshape(-1, nx).T\n",
    "Y_soln = np.asarray([soln.value(y) for y in Y]).reshape(-1, ny).T\n",
    "\n",
    "U_sim = np.zeros((nu, Np))\n",
    "X_sim = np.zeros((nx, Np + 1))\n",
    "Y_sim = np.zeros((ny, Np + 1))\n",
    "\n",
    "X_sim[:, 0] = np.ravel(x0) # set initial state\n",
    "Y_sim[:, 0] = np.ravel(h(X_sim[:, 0]).full())"
   ]
  },
  {
   "cell_type": "code",
   "execution_count": 19,
   "id": "7ec4422b-1ba5-4194-b121-f27af27ca05c",
   "metadata": {
    "scrolled": true
   },
   "outputs": [
    {
     "name": "stdout",
     "output_type": "stream",
     "text": [
      "      solver  :   t_proc      (avg)   t_wall      (avg)    n_eval\n",
      "       nlp_f  | 205.00us (  9.32us)  89.69us (  4.08us)        22\n",
      "       nlp_g  | 289.00us ( 13.14us) 112.09us (  5.09us)        22\n",
      "    nlp_grad  |  19.00us ( 19.00us)   9.85us (  9.85us)         1\n",
      "  nlp_grad_f  | 258.00us ( 10.75us) 112.49us (  4.69us)        24\n",
      "  nlp_hess_l  | 212.00us ( 10.60us)  95.48us (  4.77us)        20\n",
      "   nlp_jac_g  | 300.00us ( 12.50us) 117.26us (  4.89us)        24\n",
      "       total  |  17.46ms ( 17.46ms)   8.72ms (  8.72ms)         1\n",
      "      solver  :   t_proc      (avg)   t_wall      (avg)    n_eval\n",
      "       nlp_f  | 233.00us (  7.06us) 114.42us (  3.47us)        33\n",
      "       nlp_g  | 338.00us ( 10.24us) 148.21us (  4.49us)        33\n",
      "    nlp_grad  |  28.00us ( 14.00us)  14.15us (  7.08us)         2\n",
      "  nlp_grad_f  | 297.00us (  8.25us) 142.35us (  3.95us)        36\n",
      "  nlp_hess_l  | 239.00us (  7.97us) 121.54us (  4.05us)        30\n",
      "   nlp_jac_g  | 334.00us (  9.28us) 149.31us (  4.15us)        36\n",
      "       total  |   8.21ms (  8.21ms)   7.23ms (  7.23ms)         1\n",
      "      solver  :   t_proc      (avg)   t_wall      (avg)    n_eval\n",
      "       nlp_f  | 280.00us (  6.36us) 145.84us (  3.31us)        44\n",
      "       nlp_g  | 396.00us (  9.00us) 194.90us (  4.43us)        44\n",
      "    nlp_grad  |  33.00us ( 11.00us)  18.43us (  6.14us)         3\n",
      "  nlp_grad_f  | 337.00us (  7.02us) 179.17us (  3.73us)        48\n",
      "  nlp_hess_l  | 275.00us (  6.88us) 155.58us (  3.89us)        40\n",
      "   nlp_jac_g  | 387.00us (  8.06us) 206.68us (  4.31us)        48\n",
      "       total  |   9.94ms (  9.94ms)   9.94ms (  9.94ms)         1\n",
      "      solver  :   t_proc      (avg)   t_wall      (avg)    n_eval\n",
      "       nlp_f  | 309.00us (  5.62us) 173.05us (  3.15us)        55\n",
      "       nlp_g  | 448.00us (  8.15us) 235.80us (  4.29us)        55\n",
      "    nlp_grad  |  37.00us (  9.25us)  22.59us (  5.65us)         4\n",
      "  nlp_grad_f  | 373.00us (  6.22us) 212.92us (  3.55us)        60\n",
      "  nlp_hess_l  | 308.00us (  6.16us) 186.53us (  3.73us)        50\n",
      "   nlp_jac_g  | 426.00us (  7.10us) 246.12us (  4.10us)        60\n",
      "       total  |   9.19ms (  9.19ms)   9.18ms (  9.18ms)         1\n",
      "      solver  :   t_proc      (avg)   t_wall      (avg)    n_eval\n",
      "       nlp_f  | 336.00us (  5.09us) 197.82us (  3.00us)        66\n",
      "       nlp_g  | 499.00us (  7.56us) 274.66us (  4.16us)        66\n",
      "    nlp_grad  |  42.00us (  8.40us)  26.96us (  5.39us)         5\n",
      "  nlp_grad_f  | 403.00us (  5.60us) 241.84us (  3.36us)        72\n",
      "  nlp_hess_l  | 335.00us (  5.58us) 211.93us (  3.53us)        60\n",
      "   nlp_jac_g  | 458.00us (  6.36us) 277.50us (  3.85us)        72\n",
      "       total  |   6.98ms (  6.98ms)   6.98ms (  6.98ms)         1\n"
     ]
    }
   ],
   "source": [
    "# run closed-loop solution, nominal e.g. no noise\n",
    "for k in range(Np):\n",
    "    opti.set_value(X[0], X_sim[:, k]) # set initial state parameters \n",
    "    sol = opti.solve() # solve optimization problem\n",
    "    U_soln = np.asarray([sol.value(u) for u in U]).reshape(nu, -1) # extract control inputs based on state\n",
    "    Y_soln = np.asarray([sol.value(y) for y in Y]).reshape(ny, -1) # extract outputs based on state\n",
    "\n",
    "    U_sim[:, k] = U_soln[:, 0] # for control, only interested in the first opt. control input\n",
    "    X_sim[:, k + 1] = np.ravel(f(X_sim[:, k], U_sim[:, k]).full()) # apply input to state system/plant\n",
    "    Y_sim[:, k + 1] = np.ravel(h(X_sim[:, k + 1]).full()) # apply input to output system/plant"
   ]
  },
  {
   "cell_type": "markdown",
   "id": "15a73870-3b96-4f6b-8dbe-af3e5a72b8a9",
   "metadata": {},
   "source": [
    "### Plotting"
   ]
  },
  {
   "cell_type": "markdown",
   "id": "42c5e07e-1beb-4e9b-bb0f-6491077c27d1",
   "metadata": {},
   "source": [
    "State and input profiles of closed-loop experiments for a single iteration \n",
    "\n",
    "States  X (CEM, Ts)\n",
    "\n",
    "Control U (P  , q )"
   ]
  },
  {
   "cell_type": "code",
   "execution_count": 21,
   "id": "456d6ec4-51cc-4777-8499-c8db6abdf3cf",
   "metadata": {},
   "outputs": [
    {
     "data": {
      "text/plain": [
       "array([[ 0.        , -0.5267362 , -1.23786599, -1.89058978, -2.46939859,\n",
       "        -2.98009639],\n",
       "       [ 0.        , -4.8854003 , -5.42593023, -5.52714878, -5.57183955,\n",
       "        -5.60019779]])"
      ]
     },
     "execution_count": 21,
     "metadata": {},
     "output_type": "execute_result"
    }
   ],
   "source": [
    "X_sim"
   ]
  },
  {
   "cell_type": "code",
   "execution_count": null,
   "id": "61d96e78-fd25-48aa-9601-6a4c7d2dae75",
   "metadata": {},
   "outputs": [],
   "source": []
  }
 ],
 "metadata": {
  "kernelspec": {
   "display_name": "Python 3 (ipykernel)",
   "language": "python",
   "name": "python3"
  },
  "language_info": {
   "codemirror_mode": {
    "name": "ipython",
    "version": 3
   },
   "file_extension": ".py",
   "mimetype": "text/x-python",
   "name": "python",
   "nbconvert_exporter": "python",
   "pygments_lexer": "ipython3",
   "version": "3.10.12"
  }
 },
 "nbformat": 4,
 "nbformat_minor": 5
}
